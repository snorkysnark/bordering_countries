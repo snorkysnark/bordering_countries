{
 "cells": [
  {
   "cell_type": "code",
   "execution_count": 93,
   "id": "8324712f",
   "metadata": {},
   "outputs": [],
   "source": [
    "import polars as pl  # Better than pandas\n",
    "from SPARQLWrapper import SPARQLWrapper, JSON as JsonReturn\n",
    "from tqdm import tqdm"
   ]
  },
  {
   "cell_type": "code",
   "execution_count": 34,
   "id": "b8b12293",
   "metadata": {},
   "outputs": [
    {
     "data": {
      "text/plain": [
       "polars.config.Config"
      ]
     },
     "execution_count": 34,
     "metadata": {},
     "output_type": "execute_result"
    }
   ],
   "source": [
    "pl.Config.set_fmt_str_lengths(100)"
   ]
  },
  {
   "cell_type": "code",
   "execution_count": 2,
   "id": "31b1825a",
   "metadata": {
    "scrolled": true
   },
   "outputs": [
    {
     "data": {
      "text/plain": [
       "['Switzerland',\n",
       " 'Austria',\n",
       " 'Czech Republic',\n",
       " 'Hungary',\n",
       " 'Serbia',\n",
       " 'Slovakia',\n",
       " 'Ethiopia',\n",
       " 'Kazakhstan',\n",
       " 'Luxembourg',\n",
       " 'Belarus',\n",
       " 'Uganda',\n",
       " 'Nepal',\n",
       " 'Azerbaijan',\n",
       " 'Armenia',\n",
       " 'North Macedonia',\n",
       " 'Uzbekistan',\n",
       " 'Zimbabwe',\n",
       " 'Malawi',\n",
       " 'Zambia',\n",
       " 'Moldova',\n",
       " 'Botswana',\n",
       " 'Burkina Faso',\n",
       " 'Rwanda',\n",
       " 'Mongolia',\n",
       " 'Bolivia',\n",
       " 'Paraguay',\n",
       " 'Mali',\n",
       " 'Kyrgyzstan',\n",
       " 'Laos',\n",
       " 'Afghanistan',\n",
       " 'Niger',\n",
       " 'Liechtenstein',\n",
       " 'Tajikistan',\n",
       " 'Eswatini',\n",
       " 'Bhutan',\n",
       " 'Burundi',\n",
       " 'Lesotho',\n",
       " 'Chad',\n",
       " 'Central African Republic',\n",
       " 'Vatican City',\n",
       " 'South Sudan',\n",
       " 'San Marino',\n",
       " 'Andorra',\n",
       " 'Turkmenistan']"
      ]
     },
     "execution_count": 2,
     "metadata": {},
     "output_type": "execute_result"
    }
   ],
   "source": [
    "input_countries = (\n",
    "    pl.scan_csv(\"./data/landlocked 2023-06-26 - Лист1.csv\")\n",
    "    .select(pl.col(\"landlocked country\").alias(\"name\"))\n",
    "    .collect()\n",
    "    .to_series()\n",
    "    .to_list()\n",
    ")\n",
    "input_countries"
   ]
  },
  {
   "cell_type": "code",
   "execution_count": 140,
   "id": "3858ec4e",
   "metadata": {},
   "outputs": [],
   "source": [
    "class WikidataRequests:\n",
    "    def __init__(self) -> None:\n",
    "        self.sparql = SPARQLWrapper(\"https://query.wikidata.org/sparql\")\n",
    "        self.sparql.setReturnFormat(JsonReturn)\n",
    "\n",
    "    def query(self, query: str, schema=None):\n",
    "        self.sparql.setQuery(query)\n",
    "        result: dict = self.sparql.queryAndConvert()  # type:ignore\n",
    "\n",
    "        return pl.DataFrame(result[\"results\"][\"bindings\"], schema=schema).select(\n",
    "            pl.col(\"*\").apply(lambda var: var[\"value\"])\n",
    "        )\n",
    "\n",
    "    def find_country(self, name: str):\n",
    "        return self.query(\n",
    "            f\"\"\"\\\n",
    "SELECT ?country ?countryLabel ?countryDescription WHERE {{\n",
    "    ?country rdfs:label \"{name}\"@en;\n",
    "        wdt:P31 wd:Q3624078. # 'instance of' 'sovereign state'\n",
    "    FILTER(NOT EXISTS {{ ?country (p:P31/ps:P31) wd:Q3024240. }}) # is NOT a 'historical country'\n",
    "    SERVICE wikibase:label {{ bd:serviceParam wikibase:language \"en\". }}\n",
    "}}\n",
    "LIMIT 1\"\"\",\n",
    "            schema=[\"country\", \"countryLabel\", \"countryDescription\"],\n",
    "        )\n",
    "\n",
    "    def find_bordering(self, id: str):\n",
    "        return self.query(\n",
    "            f\"\"\"\\\n",
    "SELECT ?bordering ?borderingLabel WHERE {{\n",
    "    ?bordering wdt:P31 wd:Q3624078. # 'instance of' 'sovereign state'\n",
    "    ?bordering wdt:P47 wd:{id}. # 'shares border with'\n",
    "    FILTER(NOT EXISTS {{ ?bordering (p:P31/ps:P31) wd:Q3024240. }}) # is NOT a 'historical country'\n",
    "    SERVICE wikibase:label {{ bd:serviceParam wikibase:language \"en\". }}\n",
    "}}\"\"\",\n",
    "            schema=[\"bordering\", \"borderingLabel\"],\n",
    "        )\n",
    "\n",
    "\n",
    "wikidata = WikidataRequests()"
   ]
  },
  {
   "cell_type": "code",
   "execution_count": 128,
   "id": "4002bef6",
   "metadata": {},
   "outputs": [],
   "source": [
    "def find_countries(countries):\n",
    "    dfs = []\n",
    "    for country in tqdm(countries, total=len(countries)):\n",
    "        dfs.append(wikidata.find_country(country))\n",
    "    return pl.DataFrame({\"query\": countries}).join(\n",
    "        pl.concat(dfs), left_on=\"query\", right_on=\"countryLabel\", how=\"left\"\n",
    "    )"
   ]
  },
  {
   "cell_type": "code",
   "execution_count": 133,
   "id": "18c2f199",
   "metadata": {},
   "outputs": [
    {
     "name": "stderr",
     "output_type": "stream",
     "text": [
      "100%|█████████████████████████████████████████████████████████████████████████████████████████████████████████████████████████████████████████████████████████████████████████████████████████████████████████| 44/44 [00:16<00:00,  2.72it/s]\n"
     ]
    },
    {
     "data": {
      "text/html": [
       "<div><style>\n",
       ".dataframe > thead > tr > th,\n",
       ".dataframe > tbody > tr > td {\n",
       "  text-align: right;\n",
       "}\n",
       "</style>\n",
       "<small>shape: (44, 3)</small><table border=\"1\" class=\"dataframe\"><thead><tr><th>query</th><th>country</th><th>countryDescription</th></tr><tr><td>str</td><td>str</td><td>str</td></tr></thead><tbody><tr><td>&quot;Switzerland&quot;</td><td>&quot;http://www.wikidata.org/entity/Q39&quot;</td><td>&quot;country in Central Europe&quot;</td></tr><tr><td>&quot;Austria&quot;</td><td>&quot;http://www.wikidata.org/entity/Q40&quot;</td><td>&quot;country in Central Europe&quot;</td></tr><tr><td>&quot;Czech Republic&quot;</td><td>&quot;http://www.wikidata.org/entity/Q213&quot;</td><td>&quot;country in Central Europe&quot;</td></tr><tr><td>&quot;Hungary&quot;</td><td>&quot;http://www.wikidata.org/entity/Q28&quot;</td><td>&quot;country in Central Europe&quot;</td></tr><tr><td>&quot;Serbia&quot;</td><td>&quot;http://www.wikidata.org/entity/Q403&quot;</td><td>&quot;country in southeastern Europe&quot;</td></tr><tr><td>&quot;Slovakia&quot;</td><td>&quot;http://www.wikidata.org/entity/Q214&quot;</td><td>&quot;country in Central Europe&quot;</td></tr><tr><td>&quot;Ethiopia&quot;</td><td>&quot;http://www.wikidata.org/entity/Q115&quot;</td><td>&quot;country in the Horn of Africa&quot;</td></tr><tr><td>&quot;Kazakhstan&quot;</td><td>&quot;http://www.wikidata.org/entity/Q232&quot;</td><td>&quot;sovereign state in Eastern Europe and Central Asia&quot;</td></tr><tr><td>&quot;Luxembourg&quot;</td><td>&quot;http://www.wikidata.org/entity/Q32&quot;</td><td>&quot;country in Western Europe&quot;</td></tr><tr><td>&quot;Belarus&quot;</td><td>&quot;http://www.wikidata.org/entity/Q184&quot;</td><td>&quot;Country in Eastern Europe&quot;</td></tr><tr><td>&quot;Uganda&quot;</td><td>&quot;http://www.wikidata.org/entity/Q1036&quot;</td><td>&quot;country in East-central Africa&quot;</td></tr><tr><td>&quot;Nepal&quot;</td><td>&quot;http://www.wikidata.org/entity/Q837&quot;</td><td>&quot;country in South Asia&quot;</td></tr><tr><td>&hellip;</td><td>&hellip;</td><td>&hellip;</td></tr><tr><td>&quot;Tajikistan&quot;</td><td>&quot;http://www.wikidata.org/entity/Q863&quot;</td><td>&quot;sovereign state in Central Asia&quot;</td></tr><tr><td>&quot;Eswatini&quot;</td><td>&quot;http://www.wikidata.org/entity/Q1050&quot;</td><td>&quot;sovereign state in southern Africa&quot;</td></tr><tr><td>&quot;Bhutan&quot;</td><td>&quot;http://www.wikidata.org/entity/Q917&quot;</td><td>&quot;sovereign state in South Asia&quot;</td></tr><tr><td>&quot;Burundi&quot;</td><td>&quot;http://www.wikidata.org/entity/Q967&quot;</td><td>&quot;sovereign state in Africa&quot;</td></tr><tr><td>&quot;Lesotho&quot;</td><td>&quot;http://www.wikidata.org/entity/Q1013&quot;</td><td>&quot;sovereign state in southern Africa&quot;</td></tr><tr><td>&quot;Chad&quot;</td><td>&quot;http://www.wikidata.org/entity/Q657&quot;</td><td>&quot;sovereign state in central Africa&quot;</td></tr><tr><td>&quot;Central African Republic&quot;</td><td>&quot;http://www.wikidata.org/entity/Q929&quot;</td><td>&quot;country in Central Africa&quot;</td></tr><tr><td>&quot;Vatican City&quot;</td><td>&quot;http://www.wikidata.org/entity/Q237&quot;</td><td>&quot;Holy See&#x27;s independent city-state, an enclave within Rome, Italy&quot;</td></tr><tr><td>&quot;South Sudan&quot;</td><td>&quot;http://www.wikidata.org/entity/Q958&quot;</td><td>&quot;country in East Africa&quot;</td></tr><tr><td>&quot;San Marino&quot;</td><td>&quot;http://www.wikidata.org/entity/Q238&quot;</td><td>&quot;sovereign state in southern Europe, enclaved within Italy&quot;</td></tr><tr><td>&quot;Andorra&quot;</td><td>&quot;http://www.wikidata.org/entity/Q228&quot;</td><td>&quot;sovereign microstate between France and Spain, in Western Europe&quot;</td></tr><tr><td>&quot;Turkmenistan&quot;</td><td>&quot;http://www.wikidata.org/entity/Q874&quot;</td><td>&quot;country in Central Asia&quot;</td></tr></tbody></table></div>"
      ],
      "text/plain": [
       "shape: (44, 3)\n",
       "┌────────────────┬─────────────────────────────────────┬───────────────────────────────────────────┐\n",
       "│ query          ┆ country                             ┆ countryDescription                        │\n",
       "│ ---            ┆ ---                                 ┆ ---                                       │\n",
       "│ str            ┆ str                                 ┆ str                                       │\n",
       "╞════════════════╪═════════════════════════════════════╪═══════════════════════════════════════════╡\n",
       "│ Switzerland    ┆ http://www.wikidata.org/entity/Q39  ┆ country in Central Europe                 │\n",
       "│ Austria        ┆ http://www.wikidata.org/entity/Q40  ┆ country in Central Europe                 │\n",
       "│ Czech Republic ┆ http://www.wikidata.org/entity/Q213 ┆ country in Central Europe                 │\n",
       "│ Hungary        ┆ http://www.wikidata.org/entity/Q28  ┆ country in Central Europe                 │\n",
       "│ …              ┆ …                                   ┆ …                                         │\n",
       "│ South Sudan    ┆ http://www.wikidata.org/entity/Q958 ┆ country in East Africa                    │\n",
       "│ San Marino     ┆ http://www.wikidata.org/entity/Q238 ┆ sovereign state in southern Europe,       │\n",
       "│                ┆                                     ┆ enclaved within Italy                     │\n",
       "│ Andorra        ┆ http://www.wikidata.org/entity/Q228 ┆ sovereign microstate between France and   │\n",
       "│                ┆                                     ┆ Spain, in Western Europe                  │\n",
       "│ Turkmenistan   ┆ http://www.wikidata.org/entity/Q874 ┆ country in Central Asia                   │\n",
       "└────────────────┴─────────────────────────────────────┴───────────────────────────────────────────┘"
      ]
     },
     "execution_count": 133,
     "metadata": {},
     "output_type": "execute_result"
    }
   ],
   "source": [
    "found_countries = find_countries(input_countries)\n",
    "found_countries"
   ]
  },
  {
   "cell_type": "code",
   "execution_count": 136,
   "id": "ae5cb41f",
   "metadata": {},
   "outputs": [
    {
     "name": "stdout",
     "output_type": "stream",
     "text": [
      "Found 44 / 44\n"
     ]
    }
   ],
   "source": [
    "print(\n",
    "    \"Found\",\n",
    "    len(found_countries.filter(pl.col(\"country\").is_not_null())),\n",
    "    \"/\",\n",
    "    len(found_countries),\n",
    ")"
   ]
  },
  {
   "cell_type": "code",
   "execution_count": 138,
   "id": "90fc978a",
   "metadata": {
    "scrolled": true
   },
   "outputs": [
    {
     "data": {
      "text/html": [
       "<div><style>\n",
       ".dataframe > thead > tr > th,\n",
       ".dataframe > tbody > tr > td {\n",
       "  text-align: right;\n",
       "}\n",
       "</style>\n",
       "<small>shape: (44, 4)</small><table border=\"1\" class=\"dataframe\"><thead><tr><th>query</th><th>country</th><th>countryDescription</th><th>id</th></tr><tr><td>str</td><td>str</td><td>str</td><td>str</td></tr></thead><tbody><tr><td>&quot;Switzerland&quot;</td><td>&quot;http://www.wikidata.org/entity/Q39&quot;</td><td>&quot;country in Central Europe&quot;</td><td>&quot;Q39&quot;</td></tr><tr><td>&quot;Austria&quot;</td><td>&quot;http://www.wikidata.org/entity/Q40&quot;</td><td>&quot;country in Central Europe&quot;</td><td>&quot;Q40&quot;</td></tr><tr><td>&quot;Czech Republic&quot;</td><td>&quot;http://www.wikidata.org/entity/Q213&quot;</td><td>&quot;country in Central Europe&quot;</td><td>&quot;Q213&quot;</td></tr><tr><td>&quot;Hungary&quot;</td><td>&quot;http://www.wikidata.org/entity/Q28&quot;</td><td>&quot;country in Central Europe&quot;</td><td>&quot;Q28&quot;</td></tr><tr><td>&quot;Serbia&quot;</td><td>&quot;http://www.wikidata.org/entity/Q403&quot;</td><td>&quot;country in southeastern Europe&quot;</td><td>&quot;Q403&quot;</td></tr><tr><td>&quot;Slovakia&quot;</td><td>&quot;http://www.wikidata.org/entity/Q214&quot;</td><td>&quot;country in Central Europe&quot;</td><td>&quot;Q214&quot;</td></tr><tr><td>&quot;Ethiopia&quot;</td><td>&quot;http://www.wikidata.org/entity/Q115&quot;</td><td>&quot;country in the Horn of Africa&quot;</td><td>&quot;Q115&quot;</td></tr><tr><td>&quot;Kazakhstan&quot;</td><td>&quot;http://www.wikidata.org/entity/Q232&quot;</td><td>&quot;sovereign state in Eastern Europe and Central Asia&quot;</td><td>&quot;Q232&quot;</td></tr><tr><td>&quot;Luxembourg&quot;</td><td>&quot;http://www.wikidata.org/entity/Q32&quot;</td><td>&quot;country in Western Europe&quot;</td><td>&quot;Q32&quot;</td></tr><tr><td>&quot;Belarus&quot;</td><td>&quot;http://www.wikidata.org/entity/Q184&quot;</td><td>&quot;Country in Eastern Europe&quot;</td><td>&quot;Q184&quot;</td></tr><tr><td>&quot;Uganda&quot;</td><td>&quot;http://www.wikidata.org/entity/Q1036&quot;</td><td>&quot;country in East-central Africa&quot;</td><td>&quot;Q1036&quot;</td></tr><tr><td>&quot;Nepal&quot;</td><td>&quot;http://www.wikidata.org/entity/Q837&quot;</td><td>&quot;country in South Asia&quot;</td><td>&quot;Q837&quot;</td></tr><tr><td>&hellip;</td><td>&hellip;</td><td>&hellip;</td><td>&hellip;</td></tr><tr><td>&quot;Tajikistan&quot;</td><td>&quot;http://www.wikidata.org/entity/Q863&quot;</td><td>&quot;sovereign state in Central Asia&quot;</td><td>&quot;Q863&quot;</td></tr><tr><td>&quot;Eswatini&quot;</td><td>&quot;http://www.wikidata.org/entity/Q1050&quot;</td><td>&quot;sovereign state in southern Africa&quot;</td><td>&quot;Q1050&quot;</td></tr><tr><td>&quot;Bhutan&quot;</td><td>&quot;http://www.wikidata.org/entity/Q917&quot;</td><td>&quot;sovereign state in South Asia&quot;</td><td>&quot;Q917&quot;</td></tr><tr><td>&quot;Burundi&quot;</td><td>&quot;http://www.wikidata.org/entity/Q967&quot;</td><td>&quot;sovereign state in Africa&quot;</td><td>&quot;Q967&quot;</td></tr><tr><td>&quot;Lesotho&quot;</td><td>&quot;http://www.wikidata.org/entity/Q1013&quot;</td><td>&quot;sovereign state in southern Africa&quot;</td><td>&quot;Q1013&quot;</td></tr><tr><td>&quot;Chad&quot;</td><td>&quot;http://www.wikidata.org/entity/Q657&quot;</td><td>&quot;sovereign state in central Africa&quot;</td><td>&quot;Q657&quot;</td></tr><tr><td>&quot;Central African Republic&quot;</td><td>&quot;http://www.wikidata.org/entity/Q929&quot;</td><td>&quot;country in Central Africa&quot;</td><td>&quot;Q929&quot;</td></tr><tr><td>&quot;Vatican City&quot;</td><td>&quot;http://www.wikidata.org/entity/Q237&quot;</td><td>&quot;Holy See&#x27;s independent city-state, an enclave within Rome, Italy&quot;</td><td>&quot;Q237&quot;</td></tr><tr><td>&quot;South Sudan&quot;</td><td>&quot;http://www.wikidata.org/entity/Q958&quot;</td><td>&quot;country in East Africa&quot;</td><td>&quot;Q958&quot;</td></tr><tr><td>&quot;San Marino&quot;</td><td>&quot;http://www.wikidata.org/entity/Q238&quot;</td><td>&quot;sovereign state in southern Europe, enclaved within Italy&quot;</td><td>&quot;Q238&quot;</td></tr><tr><td>&quot;Andorra&quot;</td><td>&quot;http://www.wikidata.org/entity/Q228&quot;</td><td>&quot;sovereign microstate between France and Spain, in Western Europe&quot;</td><td>&quot;Q228&quot;</td></tr><tr><td>&quot;Turkmenistan&quot;</td><td>&quot;http://www.wikidata.org/entity/Q874&quot;</td><td>&quot;country in Central Asia&quot;</td><td>&quot;Q874&quot;</td></tr></tbody></table></div>"
      ],
      "text/plain": [
       "shape: (44, 4)\n",
       "┌────────────────┬─────────────────────────────────────┬───────────────────────────────┬──────┐\n",
       "│ query          ┆ country                             ┆ countryDescription            ┆ id   │\n",
       "│ ---            ┆ ---                                 ┆ ---                           ┆ ---  │\n",
       "│ str            ┆ str                                 ┆ str                           ┆ str  │\n",
       "╞════════════════╪═════════════════════════════════════╪═══════════════════════════════╪══════╡\n",
       "│ Switzerland    ┆ http://www.wikidata.org/entity/Q39  ┆ country in Central Europe     ┆ Q39  │\n",
       "│ Austria        ┆ http://www.wikidata.org/entity/Q40  ┆ country in Central Europe     ┆ Q40  │\n",
       "│ Czech Republic ┆ http://www.wikidata.org/entity/Q213 ┆ country in Central Europe     ┆ Q213 │\n",
       "│ Hungary        ┆ http://www.wikidata.org/entity/Q28  ┆ country in Central Europe     ┆ Q28  │\n",
       "│ …              ┆ …                                   ┆ …                             ┆ …    │\n",
       "│ South Sudan    ┆ http://www.wikidata.org/entity/Q958 ┆ country in East Africa        ┆ Q958 │\n",
       "│ San Marino     ┆ http://www.wikidata.org/entity/Q238 ┆ sovereign state in southern   ┆ Q238 │\n",
       "│                ┆                                     ┆ Europe, enclaved within Italy ┆      │\n",
       "│ Andorra        ┆ http://www.wikidata.org/entity/Q228 ┆ sovereign microstate between  ┆ Q228 │\n",
       "│                ┆                                     ┆ France and Spain, in Western  ┆      │\n",
       "│                ┆                                     ┆ Europe                        ┆      │\n",
       "│ Turkmenistan   ┆ http://www.wikidata.org/entity/Q874 ┆ country in Central Asia       ┆ Q874 │\n",
       "└────────────────┴─────────────────────────────────────┴───────────────────────────────┴──────┘"
      ]
     },
     "execution_count": 138,
     "metadata": {},
     "output_type": "execute_result"
    }
   ],
   "source": [
    "def extract_id(uri: str):\n",
    "    return uri.rsplit(\"/\", 1)[1]\n",
    "\n",
    "\n",
    "found_countries.with_columns(pl.col(\"country\").apply(extract_id).alias(\"id\"))"
   ]
  },
  {
   "cell_type": "code",
   "execution_count": 142,
   "id": "3e7552f5",
   "metadata": {},
   "outputs": [
    {
     "data": {
      "text/html": [
       "<div><style>\n",
       ".dataframe > thead > tr > th,\n",
       ".dataframe > tbody > tr > td {\n",
       "  text-align: right;\n",
       "}\n",
       "</style>\n",
       "<small>shape: (8, 2)</small><table border=\"1\" class=\"dataframe\"><thead><tr><th>bordering</th><th>borderingLabel</th></tr><tr><td>str</td><td>str</td></tr></thead><tbody><tr><td>&quot;http://www.wikidata.org/entity/Q28&quot;</td><td>&quot;Hungary&quot;</td></tr><tr><td>&quot;http://www.wikidata.org/entity/Q218&quot;</td><td>&quot;Romania&quot;</td></tr><tr><td>&quot;http://www.wikidata.org/entity/Q219&quot;</td><td>&quot;Bulgaria&quot;</td></tr><tr><td>&quot;http://www.wikidata.org/entity/Q221&quot;</td><td>&quot;North Macedonia&quot;</td></tr><tr><td>&quot;http://www.wikidata.org/entity/Q222&quot;</td><td>&quot;Albania&quot;</td></tr><tr><td>&quot;http://www.wikidata.org/entity/Q224&quot;</td><td>&quot;Croatia&quot;</td></tr><tr><td>&quot;http://www.wikidata.org/entity/Q225&quot;</td><td>&quot;Bosnia and Herzegovina&quot;</td></tr><tr><td>&quot;http://www.wikidata.org/entity/Q236&quot;</td><td>&quot;Montenegro&quot;</td></tr></tbody></table></div>"
      ],
      "text/plain": [
       "shape: (8, 2)\n",
       "┌─────────────────────────────────────┬────────────────────────┐\n",
       "│ bordering                           ┆ borderingLabel         │\n",
       "│ ---                                 ┆ ---                    │\n",
       "│ str                                 ┆ str                    │\n",
       "╞═════════════════════════════════════╪════════════════════════╡\n",
       "│ http://www.wikidata.org/entity/Q28  ┆ Hungary                │\n",
       "│ http://www.wikidata.org/entity/Q218 ┆ Romania                │\n",
       "│ http://www.wikidata.org/entity/Q219 ┆ Bulgaria               │\n",
       "│ http://www.wikidata.org/entity/Q221 ┆ North Macedonia        │\n",
       "│ http://www.wikidata.org/entity/Q222 ┆ Albania                │\n",
       "│ http://www.wikidata.org/entity/Q224 ┆ Croatia                │\n",
       "│ http://www.wikidata.org/entity/Q225 ┆ Bosnia and Herzegovina │\n",
       "│ http://www.wikidata.org/entity/Q236 ┆ Montenegro             │\n",
       "└─────────────────────────────────────┴────────────────────────┘"
      ]
     },
     "execution_count": 142,
     "metadata": {},
     "output_type": "execute_result"
    }
   ],
   "source": [
    "b = wikidata.find_bordering(\"Q403\")\n",
    "b"
   ]
  },
  {
   "cell_type": "code",
   "execution_count": 144,
   "id": "58298c53",
   "metadata": {},
   "outputs": [
    {
     "data": {
      "text/html": [
       "<div><style>\n",
       ".dataframe > thead > tr > th,\n",
       ".dataframe > tbody > tr > td {\n",
       "  text-align: right;\n",
       "}\n",
       "</style>\n",
       "<small>shape: (8, 3)</small><table border=\"1\" class=\"dataframe\"><thead><tr><th>bordering</th><th>borderingLabel</th><th>id</th></tr><tr><td>str</td><td>str</td><td>str</td></tr></thead><tbody><tr><td>&quot;http://www.wikidata.org/entity/Q28&quot;</td><td>&quot;Hungary&quot;</td><td>&quot;Q403&quot;</td></tr><tr><td>&quot;http://www.wikidata.org/entity/Q218&quot;</td><td>&quot;Romania&quot;</td><td>&quot;Q403&quot;</td></tr><tr><td>&quot;http://www.wikidata.org/entity/Q219&quot;</td><td>&quot;Bulgaria&quot;</td><td>&quot;Q403&quot;</td></tr><tr><td>&quot;http://www.wikidata.org/entity/Q221&quot;</td><td>&quot;North Macedonia&quot;</td><td>&quot;Q403&quot;</td></tr><tr><td>&quot;http://www.wikidata.org/entity/Q222&quot;</td><td>&quot;Albania&quot;</td><td>&quot;Q403&quot;</td></tr><tr><td>&quot;http://www.wikidata.org/entity/Q224&quot;</td><td>&quot;Croatia&quot;</td><td>&quot;Q403&quot;</td></tr><tr><td>&quot;http://www.wikidata.org/entity/Q225&quot;</td><td>&quot;Bosnia and Herzegovina&quot;</td><td>&quot;Q403&quot;</td></tr><tr><td>&quot;http://www.wikidata.org/entity/Q236&quot;</td><td>&quot;Montenegro&quot;</td><td>&quot;Q403&quot;</td></tr></tbody></table></div>"
      ],
      "text/plain": [
       "shape: (8, 3)\n",
       "┌─────────────────────────────────────┬────────────────────────┬──────┐\n",
       "│ bordering                           ┆ borderingLabel         ┆ id   │\n",
       "│ ---                                 ┆ ---                    ┆ ---  │\n",
       "│ str                                 ┆ str                    ┆ str  │\n",
       "╞═════════════════════════════════════╪════════════════════════╪══════╡\n",
       "│ http://www.wikidata.org/entity/Q28  ┆ Hungary                ┆ Q403 │\n",
       "│ http://www.wikidata.org/entity/Q218 ┆ Romania                ┆ Q403 │\n",
       "│ http://www.wikidata.org/entity/Q219 ┆ Bulgaria               ┆ Q403 │\n",
       "│ http://www.wikidata.org/entity/Q221 ┆ North Macedonia        ┆ Q403 │\n",
       "│ http://www.wikidata.org/entity/Q222 ┆ Albania                ┆ Q403 │\n",
       "│ http://www.wikidata.org/entity/Q224 ┆ Croatia                ┆ Q403 │\n",
       "│ http://www.wikidata.org/entity/Q225 ┆ Bosnia and Herzegovina ┆ Q403 │\n",
       "│ http://www.wikidata.org/entity/Q236 ┆ Montenegro             ┆ Q403 │\n",
       "└─────────────────────────────────────┴────────────────────────┴──────┘"
      ]
     },
     "execution_count": 144,
     "metadata": {},
     "output_type": "execute_result"
    }
   ],
   "source": [
    "b.with_columns(pl.lit(\"Q403\").alias(\"id\"))"
   ]
  }
 ],
 "metadata": {
  "kernelspec": {
   "display_name": "Kedro (pure_cube)",
   "language": "python",
   "name": "kedro_pure_cube"
  },
  "language_info": {
   "codemirror_mode": {
    "name": "ipython",
    "version": 3
   },
   "file_extension": ".py",
   "mimetype": "text/x-python",
   "name": "python",
   "nbconvert_exporter": "python",
   "pygments_lexer": "ipython3",
   "version": "3.11.3"
  }
 },
 "nbformat": 4,
 "nbformat_minor": 5
}
