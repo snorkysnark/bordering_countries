{
 "cells": [
  {
   "cell_type": "code",
   "execution_count": 1,
   "id": "785eca3a",
   "metadata": {},
   "outputs": [],
   "source": [
    "from tqdm import tqdm\n",
    "import requests\n",
    "\n",
    "# Better than pandas\n",
    "import polars as pl"
   ]
  },
  {
   "cell_type": "code",
   "execution_count": null,
   "id": "be70a862",
   "metadata": {},
   "outputs": [],
   "source": [
    "def wbsearchentities(name: str):\n",
    "    response = requests.get(\n",
    "        \"https://www.wikidata.org/w/api.php\",\n",
    "        params={\n",
    "            \"action\": \"wbsearchentities\",\n",
    "            \"search\": name,\n",
    "            \"language\": \"en\",\n",
    "            \"format\": \"json\",\n",
    "        },\n",
    "    )\n",
    "    response.raise_for_status()\n",
    "    return response.json()"
   ]
  },
  {
   "cell_type": "code",
   "execution_count": 9,
   "id": "c76c798f",
   "metadata": {},
   "outputs": [],
   "source": [
    "def load_entity(id: str):\n",
    "    response = requests.get(\n",
    "        \"https://www.wikidata.org/w/rest.php/wikibase/v0/entities/items/\" + id\n",
    "    )\n",
    "    response.raise_for_status()\n",
    "    return response.json()"
   ]
  },
  {
   "cell_type": "code",
   "execution_count": 2,
   "id": "6a8a93b4",
   "metadata": {
    "scrolled": true
   },
   "outputs": [
    {
     "data": {
      "text/html": [
       "<div><style>\n",
       ".dataframe > thead > tr > th,\n",
       ".dataframe > tbody > tr > td {\n",
       "  text-align: right;\n",
       "}\n",
       "</style>\n",
       "<small>shape: (44, 1)</small><table border=\"1\" class=\"dataframe\"><thead><tr><th>name</th></tr><tr><td>str</td></tr></thead><tbody><tr><td>&quot;Switzerland&quot;</td></tr><tr><td>&quot;Austria&quot;</td></tr><tr><td>&quot;Czech Republic…</td></tr><tr><td>&quot;Hungary&quot;</td></tr><tr><td>&quot;Serbia&quot;</td></tr><tr><td>&quot;Slovakia&quot;</td></tr><tr><td>&quot;Ethiopia&quot;</td></tr><tr><td>&quot;Kazakhstan&quot;</td></tr><tr><td>&quot;Luxembourg&quot;</td></tr><tr><td>&quot;Belarus&quot;</td></tr><tr><td>&quot;Uganda&quot;</td></tr><tr><td>&quot;Nepal&quot;</td></tr><tr><td>&hellip;</td></tr><tr><td>&quot;Tajikistan&quot;</td></tr><tr><td>&quot;Eswatini&quot;</td></tr><tr><td>&quot;Bhutan&quot;</td></tr><tr><td>&quot;Burundi&quot;</td></tr><tr><td>&quot;Lesotho&quot;</td></tr><tr><td>&quot;Chad&quot;</td></tr><tr><td>&quot;Central Africa…</td></tr><tr><td>&quot;Vatican City&quot;</td></tr><tr><td>&quot;South Sudan&quot;</td></tr><tr><td>&quot;San Marino&quot;</td></tr><tr><td>&quot;Andorra&quot;</td></tr><tr><td>&quot;Turkmenistan&quot;</td></tr></tbody></table></div>"
      ],
      "text/plain": [
       "shape: (44, 1)\n",
       "┌────────────────┐\n",
       "│ name           │\n",
       "│ ---            │\n",
       "│ str            │\n",
       "╞════════════════╡\n",
       "│ Switzerland    │\n",
       "│ Austria        │\n",
       "│ Czech Republic │\n",
       "│ Hungary        │\n",
       "│ …              │\n",
       "│ South Sudan    │\n",
       "│ San Marino     │\n",
       "│ Andorra        │\n",
       "│ Turkmenistan   │\n",
       "└────────────────┘"
      ]
     },
     "execution_count": 2,
     "metadata": {},
     "output_type": "execute_result"
    }
   ],
   "source": [
    "countries = (\n",
    "    pl.scan_csv(\"./landlocked 2023-06-26 - Лист1.csv\")\n",
    "    .select(pl.col(\"landlocked country\").alias(\"name\"))\n",
    "    .collect()\n",
    ")\n",
    "countries"
   ]
  },
  {
   "cell_type": "code",
   "execution_count": 4,
   "id": "5b721514",
   "metadata": {
    "scrolled": true
   },
   "outputs": [
    {
     "name": "stderr",
     "output_type": "stream",
     "text": [
      "100%|█████████████████████████████████████████████████████████████████████████████████| 44/44 [00:17<00:00,  2.55it/s]"
     ]
    },
    {
     "name": "stdout",
     "output_type": "stream",
     "text": [
      "Stored 'search_results_by_name' (dict)\n"
     ]
    },
    {
     "name": "stderr",
     "output_type": "stream",
     "text": [
      "\n"
     ]
    }
   ],
   "source": [
    "search_results_by_name = {}\n",
    "for name in tqdm(countries[\"name\"], total=len(countries)):\n",
    "    search_results_by_name[name] = wbsearchentities(name)\n",
    "\n",
    "# Cache\n",
    "%store search_results_by_name"
   ]
  },
  {
   "cell_type": "code",
   "execution_count": null,
   "id": "fa02702b",
   "metadata": {},
   "outputs": [],
   "source": [
    "# Load from cache\n",
    "%store -r search_results_by_name"
   ]
  },
  {
   "cell_type": "code",
   "execution_count": null,
   "id": "2ea0b2df",
   "metadata": {},
   "outputs": [],
   "source": [
    "countries = countries.with_columns(\n",
    "    pl.col(\"name\")\n",
    "    .apply(lambda name: search_results_by_name[name][\"search\"][0][\"id\"])\n",
    "    .alias(\"code\")\n",
    ")\n",
    "countries"
   ]
  },
  {
   "cell_type": "code",
   "execution_count": 10,
   "id": "0e6acf28",
   "metadata": {},
   "outputs": [
    {
     "name": "stderr",
     "output_type": "stream",
     "text": [
      "100%|█████████████████████████████████████████████████████████████████████████████████| 44/44 [00:34<00:00,  1.26it/s]"
     ]
    },
    {
     "name": "stdout",
     "output_type": "stream",
     "text": [
      "Stored 'entity_by_code' (dict)\n"
     ]
    },
    {
     "name": "stderr",
     "output_type": "stream",
     "text": [
      "\n"
     ]
    }
   ],
   "source": [
    "entity_by_code = {}\n",
    "for code in tqdm(countries[\"code\"], total=len(countries)):\n",
    "    entity_by_code[code] = load_entity(code)\n",
    "\n",
    "\n",
    "# Cache\n",
    "%store entity_by_code"
   ]
  },
  {
   "cell_type": "code",
   "execution_count": null,
   "id": "c627c15f",
   "metadata": {},
   "outputs": [],
   "source": [
    "# Load from cache\n",
    "%store -r entity_by_code"
   ]
  },
  {
   "cell_type": "code",
   "execution_count": 16,
   "id": "237f3949",
   "metadata": {
    "scrolled": true
   },
   "outputs": [
    {
     "data": {
      "text/html": [
       "<div><style>\n",
       ".dataframe > thead > tr > th,\n",
       ".dataframe > tbody > tr > td {\n",
       "  text-align: right;\n",
       "}\n",
       "</style>\n",
       "<small>shape: (238, 2)</small><table border=\"1\" class=\"dataframe\"><thead><tr><th>code</th><th>bordering_code</th></tr><tr><td>str</td><td>str</td></tr></thead><tbody><tr><td>&quot;Q39&quot;</td><td>&quot;Q40&quot;</td></tr><tr><td>&quot;Q39&quot;</td><td>&quot;Q347&quot;</td></tr><tr><td>&quot;Q39&quot;</td><td>&quot;Q183&quot;</td></tr><tr><td>&quot;Q39&quot;</td><td>&quot;Q142&quot;</td></tr><tr><td>&quot;Q39&quot;</td><td>&quot;Q38&quot;</td></tr><tr><td>&quot;Q39&quot;</td><td>&quot;Q28513&quot;</td></tr><tr><td>&quot;Q39&quot;</td><td>&quot;Q713750&quot;</td></tr><tr><td>&quot;Q39&quot;</td><td>&quot;Q131964&quot;</td></tr><tr><td>&quot;Q39&quot;</td><td>&quot;Q458&quot;</td></tr><tr><td>&quot;Q39&quot;</td><td>&quot;Q7318&quot;</td></tr><tr><td>&quot;Q40&quot;</td><td>&quot;Q38&quot;</td></tr><tr><td>&quot;Q40&quot;</td><td>&quot;Q347&quot;</td></tr><tr><td>&hellip;</td><td>&hellip;</td></tr><tr><td>&quot;Q958&quot;</td><td>&quot;Q974&quot;</td></tr><tr><td>&quot;Q958&quot;</td><td>&quot;Q929&quot;</td></tr><tr><td>&quot;Q958&quot;</td><td>&quot;Q7172&quot;</td></tr><tr><td>&quot;Q238&quot;</td><td>&quot;Q38&quot;</td></tr><tr><td>&quot;Q238&quot;</td><td>&quot;Q458&quot;</td></tr><tr><td>&quot;Q228&quot;</td><td>&quot;Q142&quot;</td></tr><tr><td>&quot;Q228&quot;</td><td>&quot;Q29&quot;</td></tr><tr><td>&quot;Q228&quot;</td><td>&quot;Q458&quot;</td></tr><tr><td>&quot;Q874&quot;</td><td>&quot;Q232&quot;</td></tr><tr><td>&quot;Q874&quot;</td><td>&quot;Q265&quot;</td></tr><tr><td>&quot;Q874&quot;</td><td>&quot;Q889&quot;</td></tr><tr><td>&quot;Q874&quot;</td><td>&quot;Q794&quot;</td></tr></tbody></table></div>"
      ],
      "text/plain": [
       "shape: (238, 2)\n",
       "┌──────┬────────────────┐\n",
       "│ code ┆ bordering_code │\n",
       "│ ---  ┆ ---            │\n",
       "│ str  ┆ str            │\n",
       "╞══════╪════════════════╡\n",
       "│ Q39  ┆ Q40            │\n",
       "│ Q39  ┆ Q347           │\n",
       "│ Q39  ┆ Q183           │\n",
       "│ Q39  ┆ Q142           │\n",
       "│ …    ┆ …              │\n",
       "│ Q874 ┆ Q232           │\n",
       "│ Q874 ┆ Q265           │\n",
       "│ Q874 ┆ Q889           │\n",
       "│ Q874 ┆ Q794           │\n",
       "└──────┴────────────────┘"
      ]
     },
     "execution_count": 16,
     "metadata": {},
     "output_type": "execute_result"
    }
   ],
   "source": [
    "def property_values(entity: dict, prop_name: str):\n",
    "    return list(\n",
    "        map(lambda prop: prop[\"value\"][\"content\"], entity[\"statements\"][prop_name])\n",
    "    )\n",
    "\n",
    "\n",
    "# Property:P47 - shares border with\n",
    "bordering = (\n",
    "    countries.select(\"code\")\n",
    "    .with_columns(\n",
    "        pl.col(\"code\")\n",
    "        .apply(lambda code: property_values(entity_by_code[code], \"P47\"))\n",
    "        .alias(\"bordering_code\")\n",
    "    )\n",
    "    .explode(\"bordering_code\")\n",
    ")\n",
    "bordering"
   ]
  },
  {
   "cell_type": "code",
   "execution_count": 20,
   "id": "5cf40e4f",
   "metadata": {},
   "outputs": [
    {
     "data": {
      "text/html": [
       "<div><style>\n",
       ".dataframe > thead > tr > th,\n",
       ".dataframe > tbody > tr > td {\n",
       "  text-align: right;\n",
       "}\n",
       "</style>\n",
       "<small>shape: (238, 4)</small><table border=\"1\" class=\"dataframe\"><thead><tr><th>name</th><th>code</th><th>bordering_code</th><th>bordering_name</th></tr><tr><td>str</td><td>str</td><td>str</td><td>str</td></tr></thead><tbody><tr><td>&quot;Switzerland&quot;</td><td>&quot;Q39&quot;</td><td>&quot;Q40&quot;</td><td>&quot;Austria&quot;</td></tr><tr><td>&quot;Switzerland&quot;</td><td>&quot;Q39&quot;</td><td>&quot;Q347&quot;</td><td>&quot;Liechtenstein&quot;</td></tr><tr><td>&quot;Switzerland&quot;</td><td>&quot;Q39&quot;</td><td>&quot;Q183&quot;</td><td>null</td></tr><tr><td>&quot;Switzerland&quot;</td><td>&quot;Q39&quot;</td><td>&quot;Q142&quot;</td><td>null</td></tr><tr><td>&quot;Switzerland&quot;</td><td>&quot;Q39&quot;</td><td>&quot;Q38&quot;</td><td>null</td></tr><tr><td>&quot;Switzerland&quot;</td><td>&quot;Q39&quot;</td><td>&quot;Q28513&quot;</td><td>null</td></tr><tr><td>&quot;Switzerland&quot;</td><td>&quot;Q39&quot;</td><td>&quot;Q713750&quot;</td><td>null</td></tr><tr><td>&quot;Switzerland&quot;</td><td>&quot;Q39&quot;</td><td>&quot;Q131964&quot;</td><td>null</td></tr><tr><td>&quot;Switzerland&quot;</td><td>&quot;Q39&quot;</td><td>&quot;Q458&quot;</td><td>null</td></tr><tr><td>&quot;Switzerland&quot;</td><td>&quot;Q39&quot;</td><td>&quot;Q7318&quot;</td><td>null</td></tr><tr><td>&quot;Austria&quot;</td><td>&quot;Q40&quot;</td><td>&quot;Q38&quot;</td><td>null</td></tr><tr><td>&quot;Austria&quot;</td><td>&quot;Q40&quot;</td><td>&quot;Q347&quot;</td><td>&quot;Liechtenstein&quot;</td></tr><tr><td>&hellip;</td><td>&hellip;</td><td>&hellip;</td><td>&hellip;</td></tr><tr><td>&quot;South Sudan&quot;</td><td>&quot;Q958&quot;</td><td>&quot;Q974&quot;</td><td>null</td></tr><tr><td>&quot;South Sudan&quot;</td><td>&quot;Q958&quot;</td><td>&quot;Q929&quot;</td><td>&quot;Central Africa…</td></tr><tr><td>&quot;South Sudan&quot;</td><td>&quot;Q958&quot;</td><td>&quot;Q7172&quot;</td><td>null</td></tr><tr><td>&quot;San Marino&quot;</td><td>&quot;Q238&quot;</td><td>&quot;Q38&quot;</td><td>null</td></tr><tr><td>&quot;San Marino&quot;</td><td>&quot;Q238&quot;</td><td>&quot;Q458&quot;</td><td>null</td></tr><tr><td>&quot;Andorra&quot;</td><td>&quot;Q228&quot;</td><td>&quot;Q142&quot;</td><td>null</td></tr><tr><td>&quot;Andorra&quot;</td><td>&quot;Q228&quot;</td><td>&quot;Q29&quot;</td><td>null</td></tr><tr><td>&quot;Andorra&quot;</td><td>&quot;Q228&quot;</td><td>&quot;Q458&quot;</td><td>null</td></tr><tr><td>&quot;Turkmenistan&quot;</td><td>&quot;Q874&quot;</td><td>&quot;Q232&quot;</td><td>&quot;Kazakhstan&quot;</td></tr><tr><td>&quot;Turkmenistan&quot;</td><td>&quot;Q874&quot;</td><td>&quot;Q265&quot;</td><td>&quot;Uzbekistan&quot;</td></tr><tr><td>&quot;Turkmenistan&quot;</td><td>&quot;Q874&quot;</td><td>&quot;Q889&quot;</td><td>&quot;Afghanistan&quot;</td></tr><tr><td>&quot;Turkmenistan&quot;</td><td>&quot;Q874&quot;</td><td>&quot;Q794&quot;</td><td>null</td></tr></tbody></table></div>"
      ],
      "text/plain": [
       "shape: (238, 4)\n",
       "┌──────────────┬──────┬────────────────┬────────────────┐\n",
       "│ name         ┆ code ┆ bordering_code ┆ bordering_name │\n",
       "│ ---          ┆ ---  ┆ ---            ┆ ---            │\n",
       "│ str          ┆ str  ┆ str            ┆ str            │\n",
       "╞══════════════╪══════╪════════════════╪════════════════╡\n",
       "│ Switzerland  ┆ Q39  ┆ Q40            ┆ Austria        │\n",
       "│ Switzerland  ┆ Q39  ┆ Q347           ┆ Liechtenstein  │\n",
       "│ Switzerland  ┆ Q39  ┆ Q183           ┆ null           │\n",
       "│ Switzerland  ┆ Q39  ┆ Q142           ┆ null           │\n",
       "│ …            ┆ …    ┆ …              ┆ …              │\n",
       "│ Turkmenistan ┆ Q874 ┆ Q232           ┆ Kazakhstan     │\n",
       "│ Turkmenistan ┆ Q874 ┆ Q265           ┆ Uzbekistan     │\n",
       "│ Turkmenistan ┆ Q874 ┆ Q889           ┆ Afghanistan    │\n",
       "│ Turkmenistan ┆ Q874 ┆ Q794           ┆ null           │\n",
       "└──────────────┴──────┴────────────────┴────────────────┘"
      ]
     },
     "execution_count": 20,
     "metadata": {},
     "output_type": "execute_result"
    }
   ],
   "source": [
    "countries.join(bordering, on=\"code\").join(\n",
    "    countries, left_on=\"bordering_code\", right_on=\"code\", how=\"left\"\n",
    ").rename({\"name_right\": \"bordering_name\"})"
   ]
  }
 ],
 "metadata": {
  "kernelspec": {
   "display_name": "Kedro (pure_cube)",
   "language": "python",
   "name": "kedro_pure_cube"
  },
  "language_info": {
   "codemirror_mode": {
    "name": "ipython",
    "version": 3
   },
   "file_extension": ".py",
   "mimetype": "text/x-python",
   "name": "python",
   "nbconvert_exporter": "python",
   "pygments_lexer": "ipython3",
   "version": "3.11.3"
  }
 },
 "nbformat": 4,
 "nbformat_minor": 5
}
