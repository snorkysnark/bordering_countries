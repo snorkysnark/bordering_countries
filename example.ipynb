{
 "cells": [
  {
   "cell_type": "code",
   "execution_count": 1,
   "id": "161052e5",
   "metadata": {},
   "outputs": [],
   "source": [
    "from tqdm import tqdm\n",
    "import requests\n",
    "\n",
    "# Better than pandas\n",
    "import polars as pl"
   ]
  },
  {
   "cell_type": "code",
   "execution_count": 2,
   "id": "c6a89855",
   "metadata": {},
   "outputs": [],
   "source": [
    "def wbsearchentities(name: str):\n",
    "    response = requests.get(\n",
    "        \"https://www.wikidata.org/w/api.php\",\n",
    "        params={\n",
    "            \"action\": \"wbsearchentities\",\n",
    "            \"search\": name,\n",
    "            \"language\": \"en\",\n",
    "            \"format\": \"json\",\n",
    "        },\n",
    "    )\n",
    "    response.raise_for_status()\n",
    "    return response.json()"
   ]
  },
  {
   "cell_type": "code",
   "execution_count": 3,
   "id": "68b9463b",
   "metadata": {},
   "outputs": [],
   "source": [
    "def load_entity(id: str):\n",
    "    response = requests.get(\n",
    "        \"https://www.wikidata.org/w/rest.php/wikibase/v0/entities/items/\" + id\n",
    "    )\n",
    "    response.raise_for_status()\n",
    "    return response.json()"
   ]
  },
  {
   "cell_type": "code",
   "execution_count": 4,
   "id": "8754dc07",
   "metadata": {
    "scrolled": true
   },
   "outputs": [
    {
     "data": {
      "text/html": [
       "<div><style>\n",
       ".dataframe > thead > tr > th,\n",
       ".dataframe > tbody > tr > td {\n",
       "  text-align: right;\n",
       "}\n",
       "</style>\n",
       "<small>shape: (44, 1)</small><table border=\"1\" class=\"dataframe\"><thead><tr><th>name</th></tr><tr><td>str</td></tr></thead><tbody><tr><td>&quot;Switzerland&quot;</td></tr><tr><td>&quot;Austria&quot;</td></tr><tr><td>&quot;Czech Republic…</td></tr><tr><td>&quot;Hungary&quot;</td></tr><tr><td>&quot;Serbia&quot;</td></tr><tr><td>&quot;Slovakia&quot;</td></tr><tr><td>&quot;Ethiopia&quot;</td></tr><tr><td>&quot;Kazakhstan&quot;</td></tr><tr><td>&quot;Luxembourg&quot;</td></tr><tr><td>&quot;Belarus&quot;</td></tr><tr><td>&quot;Uganda&quot;</td></tr><tr><td>&quot;Nepal&quot;</td></tr><tr><td>&hellip;</td></tr><tr><td>&quot;Tajikistan&quot;</td></tr><tr><td>&quot;Eswatini&quot;</td></tr><tr><td>&quot;Bhutan&quot;</td></tr><tr><td>&quot;Burundi&quot;</td></tr><tr><td>&quot;Lesotho&quot;</td></tr><tr><td>&quot;Chad&quot;</td></tr><tr><td>&quot;Central Africa…</td></tr><tr><td>&quot;Vatican City&quot;</td></tr><tr><td>&quot;South Sudan&quot;</td></tr><tr><td>&quot;San Marino&quot;</td></tr><tr><td>&quot;Andorra&quot;</td></tr><tr><td>&quot;Turkmenistan&quot;</td></tr></tbody></table></div>"
      ],
      "text/plain": [
       "shape: (44, 1)\n",
       "┌────────────────┐\n",
       "│ name           │\n",
       "│ ---            │\n",
       "│ str            │\n",
       "╞════════════════╡\n",
       "│ Switzerland    │\n",
       "│ Austria        │\n",
       "│ Czech Republic │\n",
       "│ Hungary        │\n",
       "│ …              │\n",
       "│ South Sudan    │\n",
       "│ San Marino     │\n",
       "│ Andorra        │\n",
       "│ Turkmenistan   │\n",
       "└────────────────┘"
      ]
     },
     "execution_count": 4,
     "metadata": {},
     "output_type": "execute_result"
    }
   ],
   "source": [
    "countries = (\n",
    "    pl.scan_csv(\"./landlocked 2023-06-26 - Лист1.csv\")\n",
    "    .select(pl.col(\"landlocked country\").alias(\"name\"))\n",
    "    .collect()\n",
    ")\n",
    "countries"
   ]
  },
  {
   "cell_type": "code",
   "execution_count": null,
   "id": "d68760a7",
   "metadata": {},
   "outputs": [],
   "source": [
    "search_results_by_name = {}\n",
    "for name in tqdm(countries[\"name\"], total=len(countries)):\n",
    "    search_results_by_name[name] = wbsearchentities(name)\n",
    "\n",
    "# Cache\n",
    "%store search_results_by_name"
   ]
  },
  {
   "cell_type": "code",
   "execution_count": 5,
   "id": "389a79f6",
   "metadata": {},
   "outputs": [],
   "source": [
    "# Load from cache\n",
    "%store -r search_results_by_name"
   ]
  },
  {
   "cell_type": "code",
   "execution_count": 6,
   "id": "ec892b26",
   "metadata": {
    "scrolled": true
   },
   "outputs": [
    {
     "data": {
      "text/html": [
       "<div><style>\n",
       ".dataframe > thead > tr > th,\n",
       ".dataframe > tbody > tr > td {\n",
       "  text-align: right;\n",
       "}\n",
       "</style>\n",
       "<small>shape: (44, 2)</small><table border=\"1\" class=\"dataframe\"><thead><tr><th>name</th><th>code</th></tr><tr><td>str</td><td>str</td></tr></thead><tbody><tr><td>&quot;Switzerland&quot;</td><td>&quot;Q39&quot;</td></tr><tr><td>&quot;Austria&quot;</td><td>&quot;Q40&quot;</td></tr><tr><td>&quot;Czech Republic…</td><td>&quot;Q213&quot;</td></tr><tr><td>&quot;Hungary&quot;</td><td>&quot;Q28&quot;</td></tr><tr><td>&quot;Serbia&quot;</td><td>&quot;Q403&quot;</td></tr><tr><td>&quot;Slovakia&quot;</td><td>&quot;Q214&quot;</td></tr><tr><td>&quot;Ethiopia&quot;</td><td>&quot;Q115&quot;</td></tr><tr><td>&quot;Kazakhstan&quot;</td><td>&quot;Q232&quot;</td></tr><tr><td>&quot;Luxembourg&quot;</td><td>&quot;Q32&quot;</td></tr><tr><td>&quot;Belarus&quot;</td><td>&quot;Q184&quot;</td></tr><tr><td>&quot;Uganda&quot;</td><td>&quot;Q1036&quot;</td></tr><tr><td>&quot;Nepal&quot;</td><td>&quot;Q837&quot;</td></tr><tr><td>&hellip;</td><td>&hellip;</td></tr><tr><td>&quot;Tajikistan&quot;</td><td>&quot;Q863&quot;</td></tr><tr><td>&quot;Eswatini&quot;</td><td>&quot;Q1050&quot;</td></tr><tr><td>&quot;Bhutan&quot;</td><td>&quot;Q917&quot;</td></tr><tr><td>&quot;Burundi&quot;</td><td>&quot;Q967&quot;</td></tr><tr><td>&quot;Lesotho&quot;</td><td>&quot;Q1013&quot;</td></tr><tr><td>&quot;Chad&quot;</td><td>&quot;Q657&quot;</td></tr><tr><td>&quot;Central Africa…</td><td>&quot;Q929&quot;</td></tr><tr><td>&quot;Vatican City&quot;</td><td>&quot;Q237&quot;</td></tr><tr><td>&quot;South Sudan&quot;</td><td>&quot;Q958&quot;</td></tr><tr><td>&quot;San Marino&quot;</td><td>&quot;Q238&quot;</td></tr><tr><td>&quot;Andorra&quot;</td><td>&quot;Q228&quot;</td></tr><tr><td>&quot;Turkmenistan&quot;</td><td>&quot;Q874&quot;</td></tr></tbody></table></div>"
      ],
      "text/plain": [
       "shape: (44, 2)\n",
       "┌────────────────┬──────┐\n",
       "│ name           ┆ code │\n",
       "│ ---            ┆ ---  │\n",
       "│ str            ┆ str  │\n",
       "╞════════════════╪══════╡\n",
       "│ Switzerland    ┆ Q39  │\n",
       "│ Austria        ┆ Q40  │\n",
       "│ Czech Republic ┆ Q213 │\n",
       "│ Hungary        ┆ Q28  │\n",
       "│ …              ┆ …    │\n",
       "│ South Sudan    ┆ Q958 │\n",
       "│ San Marino     ┆ Q238 │\n",
       "│ Andorra        ┆ Q228 │\n",
       "│ Turkmenistan   ┆ Q874 │\n",
       "└────────────────┴──────┘"
      ]
     },
     "execution_count": 6,
     "metadata": {},
     "output_type": "execute_result"
    }
   ],
   "source": [
    "countries = countries.with_columns(\n",
    "    pl.col(\"name\")\n",
    "    .apply(lambda name: search_results_by_name[name][\"search\"][0][\"id\"])\n",
    "    .alias(\"code\")\n",
    ")\n",
    "countries"
   ]
  },
  {
   "cell_type": "code",
   "execution_count": null,
   "id": "baac781f",
   "metadata": {},
   "outputs": [],
   "source": [
    "entity_by_code = {}\n",
    "for code in tqdm(countries[\"code\"], total=len(countries)):\n",
    "    entity_by_code[code] = load_entity(code)\n",
    "\n",
    "\n",
    "# Cache\n",
    "%store entity_by_code"
   ]
  },
  {
   "cell_type": "code",
   "execution_count": 7,
   "id": "703dcbcb",
   "metadata": {},
   "outputs": [],
   "source": [
    "# Load from cache\n",
    "%store -r entity_by_code"
   ]
  },
  {
   "cell_type": "code",
   "execution_count": 8,
   "id": "e9ec0d38",
   "metadata": {},
   "outputs": [
    {
     "data": {
      "text/html": [
       "<div><style>\n",
       ".dataframe > thead > tr > th,\n",
       ".dataframe > tbody > tr > td {\n",
       "  text-align: right;\n",
       "}\n",
       "</style>\n",
       "<small>shape: (238, 2)</small><table border=\"1\" class=\"dataframe\"><thead><tr><th>code</th><th>bordering_code</th></tr><tr><td>str</td><td>str</td></tr></thead><tbody><tr><td>&quot;Q39&quot;</td><td>&quot;Q40&quot;</td></tr><tr><td>&quot;Q39&quot;</td><td>&quot;Q347&quot;</td></tr><tr><td>&quot;Q39&quot;</td><td>&quot;Q183&quot;</td></tr><tr><td>&quot;Q39&quot;</td><td>&quot;Q142&quot;</td></tr><tr><td>&quot;Q39&quot;</td><td>&quot;Q38&quot;</td></tr><tr><td>&quot;Q39&quot;</td><td>&quot;Q28513&quot;</td></tr><tr><td>&quot;Q39&quot;</td><td>&quot;Q713750&quot;</td></tr><tr><td>&quot;Q39&quot;</td><td>&quot;Q131964&quot;</td></tr><tr><td>&quot;Q39&quot;</td><td>&quot;Q458&quot;</td></tr><tr><td>&quot;Q39&quot;</td><td>&quot;Q7318&quot;</td></tr><tr><td>&quot;Q40&quot;</td><td>&quot;Q38&quot;</td></tr><tr><td>&quot;Q40&quot;</td><td>&quot;Q347&quot;</td></tr><tr><td>&hellip;</td><td>&hellip;</td></tr><tr><td>&quot;Q958&quot;</td><td>&quot;Q974&quot;</td></tr><tr><td>&quot;Q958&quot;</td><td>&quot;Q929&quot;</td></tr><tr><td>&quot;Q958&quot;</td><td>&quot;Q7172&quot;</td></tr><tr><td>&quot;Q238&quot;</td><td>&quot;Q38&quot;</td></tr><tr><td>&quot;Q238&quot;</td><td>&quot;Q458&quot;</td></tr><tr><td>&quot;Q228&quot;</td><td>&quot;Q142&quot;</td></tr><tr><td>&quot;Q228&quot;</td><td>&quot;Q29&quot;</td></tr><tr><td>&quot;Q228&quot;</td><td>&quot;Q458&quot;</td></tr><tr><td>&quot;Q874&quot;</td><td>&quot;Q232&quot;</td></tr><tr><td>&quot;Q874&quot;</td><td>&quot;Q265&quot;</td></tr><tr><td>&quot;Q874&quot;</td><td>&quot;Q889&quot;</td></tr><tr><td>&quot;Q874&quot;</td><td>&quot;Q794&quot;</td></tr></tbody></table></div>"
      ],
      "text/plain": [
       "shape: (238, 2)\n",
       "┌──────┬────────────────┐\n",
       "│ code ┆ bordering_code │\n",
       "│ ---  ┆ ---            │\n",
       "│ str  ┆ str            │\n",
       "╞══════╪════════════════╡\n",
       "│ Q39  ┆ Q40            │\n",
       "│ Q39  ┆ Q347           │\n",
       "│ Q39  ┆ Q183           │\n",
       "│ Q39  ┆ Q142           │\n",
       "│ …    ┆ …              │\n",
       "│ Q874 ┆ Q232           │\n",
       "│ Q874 ┆ Q265           │\n",
       "│ Q874 ┆ Q889           │\n",
       "│ Q874 ┆ Q794           │\n",
       "└──────┴────────────────┘"
      ]
     },
     "execution_count": 8,
     "metadata": {},
     "output_type": "execute_result"
    }
   ],
   "source": [
    "def property_values(entity: dict, prop_name: str):\n",
    "    return list(\n",
    "        map(lambda prop: prop[\"value\"][\"content\"], entity[\"statements\"][prop_name])\n",
    "    )\n",
    "\n",
    "\n",
    "# Property:P47 - shares border with\n",
    "bordering = (\n",
    "    countries.select(\"code\")\n",
    "    .with_columns(\n",
    "        pl.col(\"code\")\n",
    "        .apply(lambda code: property_values(entity_by_code[code], \"P47\"))\n",
    "        .alias(\"bordering_code\")\n",
    "    )\n",
    "    .explode(\"bordering_code\")\n",
    ")\n",
    "bordering"
   ]
  },
  {
   "cell_type": "code",
   "execution_count": null,
   "id": "3a804890",
   "metadata": {},
   "outputs": [],
   "source": [
    "names_not_found = bordering.join(\n",
    "    countries, left_on=\"bordering_code\", right_on=\"code\", how=\"left\"\n",
    ").filter(pl.col(\"name\").is_null())\n",
    "\n",
    "for code in tqdm(names_not_found[\"bordering_code\"], total=len(names_not_found)):\n",
    "    entity_by_code[code] = load_entity(code)\n",
    "\n",
    "\n",
    "# Cache\n",
    "%store entity_by_code"
   ]
  },
  {
   "cell_type": "code",
   "execution_count": 13,
   "id": "7052b741",
   "metadata": {
    "scrolled": true
   },
   "outputs": [
    {
     "data": {
      "text/html": [
       "<div><style>\n",
       ".dataframe > thead > tr > th,\n",
       ".dataframe > tbody > tr > td {\n",
       "  text-align: right;\n",
       "}\n",
       "</style>\n",
       "<small>shape: (102, 2)</small><table border=\"1\" class=\"dataframe\"><thead><tr><th>name</th><th>code</th></tr><tr><td>str</td><td>str</td></tr></thead><tbody><tr><td>&quot;Switzerland&quot;</td><td>&quot;Q39&quot;</td></tr><tr><td>&quot;Austria&quot;</td><td>&quot;Q40&quot;</td></tr><tr><td>&quot;Czech Republic…</td><td>&quot;Q213&quot;</td></tr><tr><td>&quot;Hungary&quot;</td><td>&quot;Q28&quot;</td></tr><tr><td>&quot;Serbia&quot;</td><td>&quot;Q403&quot;</td></tr><tr><td>&quot;Slovakia&quot;</td><td>&quot;Q214&quot;</td></tr><tr><td>&quot;Ethiopia&quot;</td><td>&quot;Q115&quot;</td></tr><tr><td>&quot;Kazakhstan&quot;</td><td>&quot;Q232&quot;</td></tr><tr><td>&quot;Luxembourg&quot;</td><td>&quot;Q32&quot;</td></tr><tr><td>&quot;Belarus&quot;</td><td>&quot;Q184&quot;</td></tr><tr><td>&quot;Uganda&quot;</td><td>&quot;Q1036&quot;</td></tr><tr><td>&quot;Nepal&quot;</td><td>&quot;Q837&quot;</td></tr><tr><td>&hellip;</td><td>&hellip;</td></tr><tr><td>&quot;Senegal&quot;</td><td>&quot;Q1041&quot;</td></tr><tr><td>&quot;Mauritania&quot;</td><td>&quot;Q1025&quot;</td></tr><tr><td>&quot;Myanmar&quot;</td><td>&quot;Q836&quot;</td></tr><tr><td>&quot;Cambodia&quot;</td><td>&quot;Q424&quot;</td></tr><tr><td>&quot;Thailand&quot;</td><td>&quot;Q869&quot;</td></tr><tr><td>&quot;Vietnam&quot;</td><td>&quot;Q881&quot;</td></tr><tr><td>&quot;Pakistan&quot;</td><td>&quot;Q843&quot;</td></tr><tr><td>&quot;Libya&quot;</td><td>&quot;Q1016&quot;</td></tr><tr><td>&quot;Nigeria&quot;</td><td>&quot;Q1033&quot;</td></tr><tr><td>&quot;Cameroon&quot;</td><td>&quot;Q1009&quot;</td></tr><tr><td>&quot;Republic of th…</td><td>&quot;Q971&quot;</td></tr><tr><td>&quot;Spain&quot;</td><td>&quot;Q29&quot;</td></tr></tbody></table></div>"
      ],
      "text/plain": [
       "shape: (102, 2)\n",
       "┌───────────────────────┬───────┐\n",
       "│ name                  ┆ code  │\n",
       "│ ---                   ┆ ---   │\n",
       "│ str                   ┆ str   │\n",
       "╞═══════════════════════╪═══════╡\n",
       "│ Switzerland           ┆ Q39   │\n",
       "│ Austria               ┆ Q40   │\n",
       "│ Czech Republic        ┆ Q213  │\n",
       "│ Hungary               ┆ Q28   │\n",
       "│ …                     ┆ …     │\n",
       "│ Nigeria               ┆ Q1033 │\n",
       "│ Cameroon              ┆ Q1009 │\n",
       "│ Republic of the Congo ┆ Q971  │\n",
       "│ Spain                 ┆ Q29   │\n",
       "└───────────────────────┴───────┘"
      ]
     },
     "execution_count": 13,
     "metadata": {},
     "output_type": "execute_result"
    }
   ],
   "source": [
    "# Property:P31 - instance of\n",
    "# Q6256 - country\n",
    "def is_country(entity: dict):\n",
    "    for instance_of in entity[\"statements\"].get(\"P31\", []):\n",
    "        if instance_of[\"value\"][\"content\"] == \"Q6256\":\n",
    "            return True\n",
    "    return False\n",
    "\n",
    "\n",
    "countries = (\n",
    "    pl.Series(\n",
    "        values=list(\n",
    "            map(\n",
    "                lambda item: {\"name\": item[1][\"labels\"][\"en\"], \"code\": item[0]},\n",
    "                filter(\n",
    "                    lambda item: is_country(item[1]),\n",
    "                    entity_by_code.items(),\n",
    "                ),\n",
    "            )\n",
    "        )\n",
    "    )\n",
    "    .to_frame(\"a\")\n",
    "    .unnest(\"a\")\n",
    ")\n",
    "countries"
   ]
  },
  {
   "cell_type": "code",
   "execution_count": 14,
   "id": "d937802f",
   "metadata": {},
   "outputs": [
    {
     "data": {
      "text/html": [
       "<div><style>\n",
       ".dataframe > thead > tr > th,\n",
       ".dataframe > tbody > tr > td {\n",
       "  text-align: right;\n",
       "}\n",
       "</style>\n",
       "<small>shape: (196, 4)</small><table border=\"1\" class=\"dataframe\"><thead><tr><th>name</th><th>code</th><th>bordering_code</th><th>name_right</th></tr><tr><td>str</td><td>str</td><td>str</td><td>str</td></tr></thead><tbody><tr><td>&quot;Switzerland&quot;</td><td>&quot;Q39&quot;</td><td>&quot;Q40&quot;</td><td>&quot;Austria&quot;</td></tr><tr><td>&quot;Switzerland&quot;</td><td>&quot;Q39&quot;</td><td>&quot;Q347&quot;</td><td>&quot;Liechtenstein&quot;</td></tr><tr><td>&quot;Switzerland&quot;</td><td>&quot;Q39&quot;</td><td>&quot;Q183&quot;</td><td>&quot;Germany&quot;</td></tr><tr><td>&quot;Switzerland&quot;</td><td>&quot;Q39&quot;</td><td>&quot;Q142&quot;</td><td>&quot;France&quot;</td></tr><tr><td>&quot;Switzerland&quot;</td><td>&quot;Q39&quot;</td><td>&quot;Q38&quot;</td><td>&quot;Italy&quot;</td></tr><tr><td>&quot;Switzerland&quot;</td><td>&quot;Q39&quot;</td><td>&quot;Q28513&quot;</td><td>&quot;Austria-Hungar…</td></tr><tr><td>&quot;Austria&quot;</td><td>&quot;Q40&quot;</td><td>&quot;Q38&quot;</td><td>&quot;Italy&quot;</td></tr><tr><td>&quot;Austria&quot;</td><td>&quot;Q40&quot;</td><td>&quot;Q347&quot;</td><td>&quot;Liechtenstein&quot;</td></tr><tr><td>&quot;Austria&quot;</td><td>&quot;Q40&quot;</td><td>&quot;Q39&quot;</td><td>&quot;Switzerland&quot;</td></tr><tr><td>&quot;Austria&quot;</td><td>&quot;Q40&quot;</td><td>&quot;Q213&quot;</td><td>&quot;Czech Republic…</td></tr><tr><td>&quot;Austria&quot;</td><td>&quot;Q40&quot;</td><td>&quot;Q28&quot;</td><td>&quot;Hungary&quot;</td></tr><tr><td>&quot;Austria&quot;</td><td>&quot;Q40&quot;</td><td>&quot;Q214&quot;</td><td>&quot;Slovakia&quot;</td></tr><tr><td>&hellip;</td><td>&hellip;</td><td>&hellip;</td><td>&hellip;</td></tr><tr><td>&quot;South Sudan&quot;</td><td>&quot;Q958&quot;</td><td>&quot;Q115&quot;</td><td>&quot;Ethiopia&quot;</td></tr><tr><td>&quot;South Sudan&quot;</td><td>&quot;Q958&quot;</td><td>&quot;Q114&quot;</td><td>&quot;Kenya&quot;</td></tr><tr><td>&quot;South Sudan&quot;</td><td>&quot;Q958&quot;</td><td>&quot;Q1036&quot;</td><td>&quot;Uganda&quot;</td></tr><tr><td>&quot;South Sudan&quot;</td><td>&quot;Q958&quot;</td><td>&quot;Q974&quot;</td><td>&quot;Democratic Rep…</td></tr><tr><td>&quot;South Sudan&quot;</td><td>&quot;Q958&quot;</td><td>&quot;Q929&quot;</td><td>&quot;Central Africa…</td></tr><tr><td>&quot;San Marino&quot;</td><td>&quot;Q238&quot;</td><td>&quot;Q38&quot;</td><td>&quot;Italy&quot;</td></tr><tr><td>&quot;Andorra&quot;</td><td>&quot;Q228&quot;</td><td>&quot;Q142&quot;</td><td>&quot;France&quot;</td></tr><tr><td>&quot;Andorra&quot;</td><td>&quot;Q228&quot;</td><td>&quot;Q29&quot;</td><td>&quot;Spain&quot;</td></tr><tr><td>&quot;Turkmenistan&quot;</td><td>&quot;Q874&quot;</td><td>&quot;Q232&quot;</td><td>&quot;Kazakhstan&quot;</td></tr><tr><td>&quot;Turkmenistan&quot;</td><td>&quot;Q874&quot;</td><td>&quot;Q265&quot;</td><td>&quot;Uzbekistan&quot;</td></tr><tr><td>&quot;Turkmenistan&quot;</td><td>&quot;Q874&quot;</td><td>&quot;Q889&quot;</td><td>&quot;Afghanistan&quot;</td></tr><tr><td>&quot;Turkmenistan&quot;</td><td>&quot;Q874&quot;</td><td>&quot;Q794&quot;</td><td>&quot;Iran&quot;</td></tr></tbody></table></div>"
      ],
      "text/plain": [
       "shape: (196, 4)\n",
       "┌──────────────┬──────┬────────────────┬───────────────┐\n",
       "│ name         ┆ code ┆ bordering_code ┆ name_right    │\n",
       "│ ---          ┆ ---  ┆ ---            ┆ ---           │\n",
       "│ str          ┆ str  ┆ str            ┆ str           │\n",
       "╞══════════════╪══════╪════════════════╪═══════════════╡\n",
       "│ Switzerland  ┆ Q39  ┆ Q40            ┆ Austria       │\n",
       "│ Switzerland  ┆ Q39  ┆ Q347           ┆ Liechtenstein │\n",
       "│ Switzerland  ┆ Q39  ┆ Q183           ┆ Germany       │\n",
       "│ Switzerland  ┆ Q39  ┆ Q142           ┆ France        │\n",
       "│ …            ┆ …    ┆ …              ┆ …             │\n",
       "│ Turkmenistan ┆ Q874 ┆ Q232           ┆ Kazakhstan    │\n",
       "│ Turkmenistan ┆ Q874 ┆ Q265           ┆ Uzbekistan    │\n",
       "│ Turkmenistan ┆ Q874 ┆ Q889           ┆ Afghanistan   │\n",
       "│ Turkmenistan ┆ Q874 ┆ Q794           ┆ Iran          │\n",
       "└──────────────┴──────┴────────────────┴───────────────┘"
      ]
     },
     "execution_count": 14,
     "metadata": {},
     "output_type": "execute_result"
    }
   ],
   "source": [
    "final = countries.join(bordering, on=\"code\").join(\n",
    "    countries, left_on=\"bordering_code\", right_on=\"code\"\n",
    ")\n",
    "final"
   ]
  },
  {
   "cell_type": "code",
   "execution_count": null,
   "id": "52b028d0",
   "metadata": {},
   "outputs": [],
   "source": [
    "final.write_csv(\"bordering.csv\")"
   ]
  }
 ],
 "metadata": {
  "kernelspec": {
   "display_name": "Kedro (pure_cube)",
   "language": "python",
   "name": "kedro_pure_cube"
  },
  "language_info": {
   "codemirror_mode": {
    "name": "ipython",
    "version": 3
   },
   "file_extension": ".py",
   "mimetype": "text/x-python",
   "name": "python",
   "nbconvert_exporter": "python",
   "pygments_lexer": "ipython3",
   "version": "3.11.3"
  }
 },
 "nbformat": 4,
 "nbformat_minor": 5
}
