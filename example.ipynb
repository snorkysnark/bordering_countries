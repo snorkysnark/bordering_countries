{
 "cells": [
  {
   "cell_type": "code",
   "execution_count": 1,
   "id": "8324712f",
   "metadata": {},
   "outputs": [],
   "source": [
    "import polars as pl  # Better than pandas\n",
    "from SPARQLWrapper import SPARQLWrapper, JSON as JsonReturn\n",
    "from tqdm import tqdm"
   ]
  },
  {
   "cell_type": "code",
   "execution_count": 2,
   "id": "b8b12293",
   "metadata": {},
   "outputs": [
    {
     "data": {
      "text/plain": [
       "polars.config.Config"
      ]
     },
     "execution_count": 2,
     "metadata": {},
     "output_type": "execute_result"
    }
   ],
   "source": [
    "# Display longer strings\n",
    "pl.Config.set_fmt_str_lengths(100)"
   ]
  },
  {
   "cell_type": "code",
   "execution_count": 3,
   "id": "82aab131",
   "metadata": {},
   "outputs": [],
   "source": [
    "class WikidataRequests:\n",
    "    def __init__(self) -> None:\n",
    "        self.sparql = SPARQLWrapper(\"https://query.wikidata.org/sparql\")\n",
    "        self.sparql.setReturnFormat(JsonReturn)\n",
    "\n",
    "    def query(self, query: str, schema=None):\n",
    "        self.sparql.setQuery(query)\n",
    "        result: dict = self.sparql.queryAndConvert()  # type:ignore\n",
    "\n",
    "        return pl.DataFrame(result[\"results\"][\"bindings\"], schema=schema).select(\n",
    "            pl.col(\"*\").apply(lambda var: var[\"value\"])\n",
    "        )\n",
    "\n",
    "    def find_country(self, name: str):\n",
    "        return self.query(\n",
    "            f\"\"\"\\\n",
    "SELECT (?country as ?uri) WHERE {{\n",
    "    ?country rdfs:label \"{name}\"@en;\n",
    "        wdt:P31 wd:Q3624078. # 'instance of' 'sovereign state'\n",
    "    FILTER(NOT EXISTS {{ ?country (p:P31/ps:P31) wd:Q3024240. }}) # is NOT a 'historical country'\n",
    "    SERVICE wikibase:label {{ bd:serviceParam wikibase:language \"en\". }}\n",
    "}}\n",
    "LIMIT 1\"\"\",\n",
    "            schema=[\"uri\"],\n",
    "        ).select(pl.lit(name).alias(\"label\"), pl.col(\"*\"))\n",
    "\n",
    "    def find_bordering(self, id: str):\n",
    "        return self.query(\n",
    "            f\"\"\"\\\n",
    "SELECT (?bordering as ?borderingUri) ?borderingLabel WHERE {{\n",
    "    ?bordering wdt:P31 wd:Q3624078. # 'instance of' 'sovereign state'\n",
    "    ?bordering wdt:P47 wd:{id}. # 'shares border with'\n",
    "    FILTER(NOT EXISTS {{ ?bordering (p:P31/ps:P31) wd:Q3024240. }}) # is NOT a 'historical country'\n",
    "    SERVICE wikibase:label {{ bd:serviceParam wikibase:language \"en\". }}\n",
    "}}\"\"\",\n",
    "            schema=[\"borderingUri\", \"borderingLabel\"],\n",
    "        ).select(pl.lit(id).alias(\"id\"), pl.col(\"*\"))\n",
    "\n",
    "\n",
    "wikidata = WikidataRequests()"
   ]
  },
  {
   "cell_type": "code",
   "execution_count": 4,
   "id": "6bc9099b",
   "metadata": {},
   "outputs": [],
   "source": [
    "def id_from_uri(uri: str):\n",
    "    # http://www.wikidata.org/entity/Q39 -> Q39\n",
    "    return uri.rsplit(\"/\", 1)[1]"
   ]
  },
  {
   "cell_type": "code",
   "execution_count": 5,
   "id": "31b1825a",
   "metadata": {
    "scrolled": true
   },
   "outputs": [
    {
     "data": {
      "text/plain": [
       "['Switzerland',\n",
       " 'Austria',\n",
       " 'Czech Republic',\n",
       " 'Hungary',\n",
       " 'Serbia',\n",
       " 'Slovakia',\n",
       " 'Ethiopia',\n",
       " 'Kazakhstan',\n",
       " 'Luxembourg',\n",
       " 'Belarus',\n",
       " 'Uganda',\n",
       " 'Nepal',\n",
       " 'Azerbaijan',\n",
       " 'Armenia',\n",
       " 'North Macedonia',\n",
       " 'Uzbekistan',\n",
       " 'Zimbabwe',\n",
       " 'Malawi',\n",
       " 'Zambia',\n",
       " 'Moldova',\n",
       " 'Botswana',\n",
       " 'Burkina Faso',\n",
       " 'Rwanda',\n",
       " 'Mongolia',\n",
       " 'Bolivia',\n",
       " 'Paraguay',\n",
       " 'Mali',\n",
       " 'Kyrgyzstan',\n",
       " 'Laos',\n",
       " 'Afghanistan',\n",
       " 'Niger',\n",
       " 'Liechtenstein',\n",
       " 'Tajikistan',\n",
       " 'Eswatini',\n",
       " 'Bhutan',\n",
       " 'Burundi',\n",
       " 'Lesotho',\n",
       " 'Chad',\n",
       " 'Central African Republic',\n",
       " 'Vatican City',\n",
       " 'South Sudan',\n",
       " 'San Marino',\n",
       " 'Andorra',\n",
       " 'Turkmenistan']"
      ]
     },
     "execution_count": 5,
     "metadata": {},
     "output_type": "execute_result"
    }
   ],
   "source": [
    "input_countries = (\n",
    "    pl.scan_csv(\"./data/landlocked 2023-06-26 - Лист1.csv\")\n",
    "    .select(pl.col(\"landlocked country\").alias(\"label\"))\n",
    "    .collect()\n",
    "    .to_series()\n",
    "    .to_list()\n",
    ")\n",
    "input_countries"
   ]
  },
  {
   "cell_type": "code",
   "execution_count": 6,
   "id": "4002bef6",
   "metadata": {},
   "outputs": [],
   "source": [
    "def find_countries(countries):\n",
    "    dfs = []\n",
    "    for country in tqdm(countries, total=len(countries)):\n",
    "        dfs.append(wikidata.find_country(country))\n",
    "    return pl.DataFrame({\"label\": countries}).join(\n",
    "        pl.concat(dfs), on=\"label\", how=\"left\"\n",
    "    )"
   ]
  },
  {
   "cell_type": "code",
   "execution_count": 7,
   "id": "18c2f199",
   "metadata": {},
   "outputs": [
    {
     "name": "stderr",
     "output_type": "stream",
     "text": [
      "100%|█████████████████████████████████████████████████████████████████████████████████████████████████████████████████████████████████████████████████████████████████████████████████████████████████████████| 44/44 [00:16<00:00,  2.70it/s]"
     ]
    },
    {
     "name": "stdout",
     "output_type": "stream",
     "text": [
      "Found 44 / 44\n"
     ]
    },
    {
     "name": "stderr",
     "output_type": "stream",
     "text": [
      "\n"
     ]
    }
   ],
   "source": [
    "country_codes = find_countries(input_countries)\n",
    "print(\n",
    "    \"Found\",\n",
    "    len(country_codes.filter(pl.col(\"uri\").is_not_null())),\n",
    "    \"/\",\n",
    "    len(country_codes),\n",
    ")"
   ]
  },
  {
   "cell_type": "code",
   "execution_count": 13,
   "id": "90fc978a",
   "metadata": {
    "scrolled": true
   },
   "outputs": [
    {
     "data": {
      "text/html": [
       "<div><style>\n",
       ".dataframe > thead > tr > th,\n",
       ".dataframe > tbody > tr > td {\n",
       "  text-align: right;\n",
       "}\n",
       "</style>\n",
       "<small>shape: (44, 3)</small><table border=\"1\" class=\"dataframe\"><thead><tr><th>label</th><th>uri</th><th>id</th></tr><tr><td>str</td><td>str</td><td>str</td></tr></thead><tbody><tr><td>&quot;Switzerland&quot;</td><td>&quot;http://www.wikidata.org/entity/Q39&quot;</td><td>&quot;Q39&quot;</td></tr><tr><td>&quot;Austria&quot;</td><td>&quot;http://www.wikidata.org/entity/Q40&quot;</td><td>&quot;Q40&quot;</td></tr><tr><td>&quot;Czech Republic&quot;</td><td>&quot;http://www.wikidata.org/entity/Q213&quot;</td><td>&quot;Q213&quot;</td></tr><tr><td>&quot;Hungary&quot;</td><td>&quot;http://www.wikidata.org/entity/Q28&quot;</td><td>&quot;Q28&quot;</td></tr><tr><td>&quot;Serbia&quot;</td><td>&quot;http://www.wikidata.org/entity/Q403&quot;</td><td>&quot;Q403&quot;</td></tr><tr><td>&quot;Slovakia&quot;</td><td>&quot;http://www.wikidata.org/entity/Q214&quot;</td><td>&quot;Q214&quot;</td></tr><tr><td>&quot;Ethiopia&quot;</td><td>&quot;http://www.wikidata.org/entity/Q115&quot;</td><td>&quot;Q115&quot;</td></tr><tr><td>&quot;Kazakhstan&quot;</td><td>&quot;http://www.wikidata.org/entity/Q232&quot;</td><td>&quot;Q232&quot;</td></tr><tr><td>&quot;Luxembourg&quot;</td><td>&quot;http://www.wikidata.org/entity/Q32&quot;</td><td>&quot;Q32&quot;</td></tr><tr><td>&quot;Belarus&quot;</td><td>&quot;http://www.wikidata.org/entity/Q184&quot;</td><td>&quot;Q184&quot;</td></tr><tr><td>&quot;Uganda&quot;</td><td>&quot;http://www.wikidata.org/entity/Q1036&quot;</td><td>&quot;Q1036&quot;</td></tr><tr><td>&quot;Nepal&quot;</td><td>&quot;http://www.wikidata.org/entity/Q837&quot;</td><td>&quot;Q837&quot;</td></tr><tr><td>&hellip;</td><td>&hellip;</td><td>&hellip;</td></tr><tr><td>&quot;Tajikistan&quot;</td><td>&quot;http://www.wikidata.org/entity/Q863&quot;</td><td>&quot;Q863&quot;</td></tr><tr><td>&quot;Eswatini&quot;</td><td>&quot;http://www.wikidata.org/entity/Q1050&quot;</td><td>&quot;Q1050&quot;</td></tr><tr><td>&quot;Bhutan&quot;</td><td>&quot;http://www.wikidata.org/entity/Q917&quot;</td><td>&quot;Q917&quot;</td></tr><tr><td>&quot;Burundi&quot;</td><td>&quot;http://www.wikidata.org/entity/Q967&quot;</td><td>&quot;Q967&quot;</td></tr><tr><td>&quot;Lesotho&quot;</td><td>&quot;http://www.wikidata.org/entity/Q1013&quot;</td><td>&quot;Q1013&quot;</td></tr><tr><td>&quot;Chad&quot;</td><td>&quot;http://www.wikidata.org/entity/Q657&quot;</td><td>&quot;Q657&quot;</td></tr><tr><td>&quot;Central African Republic&quot;</td><td>&quot;http://www.wikidata.org/entity/Q929&quot;</td><td>&quot;Q929&quot;</td></tr><tr><td>&quot;Vatican City&quot;</td><td>&quot;http://www.wikidata.org/entity/Q237&quot;</td><td>&quot;Q237&quot;</td></tr><tr><td>&quot;South Sudan&quot;</td><td>&quot;http://www.wikidata.org/entity/Q958&quot;</td><td>&quot;Q958&quot;</td></tr><tr><td>&quot;San Marino&quot;</td><td>&quot;http://www.wikidata.org/entity/Q238&quot;</td><td>&quot;Q238&quot;</td></tr><tr><td>&quot;Andorra&quot;</td><td>&quot;http://www.wikidata.org/entity/Q228&quot;</td><td>&quot;Q228&quot;</td></tr><tr><td>&quot;Turkmenistan&quot;</td><td>&quot;http://www.wikidata.org/entity/Q874&quot;</td><td>&quot;Q874&quot;</td></tr></tbody></table></div>"
      ],
      "text/plain": [
       "shape: (44, 3)\n",
       "┌────────────────┬─────────────────────────────────────┬──────┐\n",
       "│ label          ┆ uri                                 ┆ id   │\n",
       "│ ---            ┆ ---                                 ┆ ---  │\n",
       "│ str            ┆ str                                 ┆ str  │\n",
       "╞════════════════╪═════════════════════════════════════╪══════╡\n",
       "│ Switzerland    ┆ http://www.wikidata.org/entity/Q39  ┆ Q39  │\n",
       "│ Austria        ┆ http://www.wikidata.org/entity/Q40  ┆ Q40  │\n",
       "│ Czech Republic ┆ http://www.wikidata.org/entity/Q213 ┆ Q213 │\n",
       "│ Hungary        ┆ http://www.wikidata.org/entity/Q28  ┆ Q28  │\n",
       "│ …              ┆ …                                   ┆ …    │\n",
       "│ South Sudan    ┆ http://www.wikidata.org/entity/Q958 ┆ Q958 │\n",
       "│ San Marino     ┆ http://www.wikidata.org/entity/Q238 ┆ Q238 │\n",
       "│ Andorra        ┆ http://www.wikidata.org/entity/Q228 ┆ Q228 │\n",
       "│ Turkmenistan   ┆ http://www.wikidata.org/entity/Q874 ┆ Q874 │\n",
       "└────────────────┴─────────────────────────────────────┴──────┘"
      ]
     },
     "execution_count": 13,
     "metadata": {},
     "output_type": "execute_result"
    }
   ],
   "source": [
    "country_codes = country_codes.with_columns(pl.col(\"uri\").apply(id_from_uri).alias(\"id\"))\n",
    "country_codes"
   ]
  },
  {
   "cell_type": "code",
   "execution_count": 14,
   "id": "3e7552f5",
   "metadata": {},
   "outputs": [],
   "source": [
    "def find_bordering_all(ids: list[str]):\n",
    "    dfs = []\n",
    "    for id in tqdm(ids, total=len(ids)):\n",
    "        dfs.append(wikidata.find_bordering(id))\n",
    "    return pl.concat(dfs)"
   ]
  },
  {
   "cell_type": "code",
   "execution_count": 15,
   "id": "7622d3a4",
   "metadata": {},
   "outputs": [
    {
     "name": "stderr",
     "output_type": "stream",
     "text": [
      "100%|█████████████████████████████████████████████████████████████████████████████████████████████████████████████████████████████████████████████████████████████████████████████████████████████████████████| 44/44 [00:16<00:00,  2.72it/s]\n"
     ]
    },
    {
     "data": {
      "text/html": [
       "<div><style>\n",
       ".dataframe > thead > tr > th,\n",
       ".dataframe > tbody > tr > td {\n",
       "  text-align: right;\n",
       "}\n",
       "</style>\n",
       "<small>shape: (192, 3)</small><table border=\"1\" class=\"dataframe\"><thead><tr><th>id</th><th>borderingLabel</th><th>borderingUri</th></tr><tr><td>str</td><td>str</td><td>str</td></tr></thead><tbody><tr><td>&quot;Q39&quot;</td><td>&quot;Italy&quot;</td><td>&quot;http://www.wikidata.org/entity/Q38&quot;</td></tr><tr><td>&quot;Q39&quot;</td><td>&quot;Austria&quot;</td><td>&quot;http://www.wikidata.org/entity/Q40&quot;</td></tr><tr><td>&quot;Q39&quot;</td><td>&quot;France&quot;</td><td>&quot;http://www.wikidata.org/entity/Q142&quot;</td></tr><tr><td>&quot;Q39&quot;</td><td>&quot;Germany&quot;</td><td>&quot;http://www.wikidata.org/entity/Q183&quot;</td></tr><tr><td>&quot;Q39&quot;</td><td>&quot;Liechtenstein&quot;</td><td>&quot;http://www.wikidata.org/entity/Q347&quot;</td></tr><tr><td>&quot;Q40&quot;</td><td>&quot;Hungary&quot;</td><td>&quot;http://www.wikidata.org/entity/Q28&quot;</td></tr><tr><td>&quot;Q40&quot;</td><td>&quot;Italy&quot;</td><td>&quot;http://www.wikidata.org/entity/Q38&quot;</td></tr><tr><td>&quot;Q40&quot;</td><td>&quot;Switzerland&quot;</td><td>&quot;http://www.wikidata.org/entity/Q39&quot;</td></tr><tr><td>&quot;Q40&quot;</td><td>&quot;Germany&quot;</td><td>&quot;http://www.wikidata.org/entity/Q183&quot;</td></tr><tr><td>&quot;Q40&quot;</td><td>&quot;Czech Republic&quot;</td><td>&quot;http://www.wikidata.org/entity/Q213&quot;</td></tr><tr><td>&quot;Q40&quot;</td><td>&quot;Slovakia&quot;</td><td>&quot;http://www.wikidata.org/entity/Q214&quot;</td></tr><tr><td>&quot;Q40&quot;</td><td>&quot;Slovenia&quot;</td><td>&quot;http://www.wikidata.org/entity/Q215&quot;</td></tr><tr><td>&hellip;</td><td>&hellip;</td><td>&hellip;</td></tr><tr><td>&quot;Q958&quot;</td><td>&quot;Ethiopia&quot;</td><td>&quot;http://www.wikidata.org/entity/Q115&quot;</td></tr><tr><td>&quot;Q958&quot;</td><td>&quot;Central African Republic&quot;</td><td>&quot;http://www.wikidata.org/entity/Q929&quot;</td></tr><tr><td>&quot;Q958&quot;</td><td>&quot;Democratic Republic of the Congo&quot;</td><td>&quot;http://www.wikidata.org/entity/Q974&quot;</td></tr><tr><td>&quot;Q958&quot;</td><td>&quot;Uganda&quot;</td><td>&quot;http://www.wikidata.org/entity/Q1036&quot;</td></tr><tr><td>&quot;Q958&quot;</td><td>&quot;Sudan&quot;</td><td>&quot;http://www.wikidata.org/entity/Q1049&quot;</td></tr><tr><td>&quot;Q238&quot;</td><td>&quot;Italy&quot;</td><td>&quot;http://www.wikidata.org/entity/Q38&quot;</td></tr><tr><td>&quot;Q228&quot;</td><td>&quot;Spain&quot;</td><td>&quot;http://www.wikidata.org/entity/Q29&quot;</td></tr><tr><td>&quot;Q228&quot;</td><td>&quot;France&quot;</td><td>&quot;http://www.wikidata.org/entity/Q142&quot;</td></tr><tr><td>&quot;Q874&quot;</td><td>&quot;Kazakhstan&quot;</td><td>&quot;http://www.wikidata.org/entity/Q232&quot;</td></tr><tr><td>&quot;Q874&quot;</td><td>&quot;Uzbekistan&quot;</td><td>&quot;http://www.wikidata.org/entity/Q265&quot;</td></tr><tr><td>&quot;Q874&quot;</td><td>&quot;Iran&quot;</td><td>&quot;http://www.wikidata.org/entity/Q794&quot;</td></tr><tr><td>&quot;Q874&quot;</td><td>&quot;Afghanistan&quot;</td><td>&quot;http://www.wikidata.org/entity/Q889&quot;</td></tr></tbody></table></div>"
      ],
      "text/plain": [
       "shape: (192, 3)\n",
       "┌──────┬────────────────┬─────────────────────────────────────┐\n",
       "│ id   ┆ borderingLabel ┆ borderingUri                        │\n",
       "│ ---  ┆ ---            ┆ ---                                 │\n",
       "│ str  ┆ str            ┆ str                                 │\n",
       "╞══════╪════════════════╪═════════════════════════════════════╡\n",
       "│ Q39  ┆ Italy          ┆ http://www.wikidata.org/entity/Q38  │\n",
       "│ Q39  ┆ Austria        ┆ http://www.wikidata.org/entity/Q40  │\n",
       "│ Q39  ┆ France         ┆ http://www.wikidata.org/entity/Q142 │\n",
       "│ Q39  ┆ Germany        ┆ http://www.wikidata.org/entity/Q183 │\n",
       "│ …    ┆ …              ┆ …                                   │\n",
       "│ Q874 ┆ Kazakhstan     ┆ http://www.wikidata.org/entity/Q232 │\n",
       "│ Q874 ┆ Uzbekistan     ┆ http://www.wikidata.org/entity/Q265 │\n",
       "│ Q874 ┆ Iran           ┆ http://www.wikidata.org/entity/Q794 │\n",
       "│ Q874 ┆ Afghanistan    ┆ http://www.wikidata.org/entity/Q889 │\n",
       "└──────┴────────────────┴─────────────────────────────────────┘"
      ]
     },
     "execution_count": 15,
     "metadata": {},
     "output_type": "execute_result"
    }
   ],
   "source": [
    "bordering = find_bordering_all(country_codes[\"id\"].to_list())\n",
    "bordering"
   ]
  },
  {
   "cell_type": "code",
   "execution_count": 18,
   "id": "8227a0b9",
   "metadata": {},
   "outputs": [
    {
     "data": {
      "text/html": [
       "<div><style>\n",
       ".dataframe > thead > tr > th,\n",
       ".dataframe > tbody > tr > td {\n",
       "  text-align: right;\n",
       "}\n",
       "</style>\n",
       "<small>shape: (192, 4)</small><table border=\"1\" class=\"dataframe\"><thead><tr><th>label</th><th>id</th><th>borderingLabel</th><th>borderingId</th></tr><tr><td>str</td><td>str</td><td>str</td><td>str</td></tr></thead><tbody><tr><td>&quot;Switzerland&quot;</td><td>&quot;Q39&quot;</td><td>&quot;Italy&quot;</td><td>&quot;Q38&quot;</td></tr><tr><td>&quot;Switzerland&quot;</td><td>&quot;Q39&quot;</td><td>&quot;Austria&quot;</td><td>&quot;Q40&quot;</td></tr><tr><td>&quot;Switzerland&quot;</td><td>&quot;Q39&quot;</td><td>&quot;France&quot;</td><td>&quot;Q142&quot;</td></tr><tr><td>&quot;Switzerland&quot;</td><td>&quot;Q39&quot;</td><td>&quot;Germany&quot;</td><td>&quot;Q183&quot;</td></tr><tr><td>&quot;Switzerland&quot;</td><td>&quot;Q39&quot;</td><td>&quot;Liechtenstein&quot;</td><td>&quot;Q347&quot;</td></tr><tr><td>&quot;Austria&quot;</td><td>&quot;Q40&quot;</td><td>&quot;Hungary&quot;</td><td>&quot;Q28&quot;</td></tr><tr><td>&quot;Austria&quot;</td><td>&quot;Q40&quot;</td><td>&quot;Italy&quot;</td><td>&quot;Q38&quot;</td></tr><tr><td>&quot;Austria&quot;</td><td>&quot;Q40&quot;</td><td>&quot;Switzerland&quot;</td><td>&quot;Q39&quot;</td></tr><tr><td>&quot;Austria&quot;</td><td>&quot;Q40&quot;</td><td>&quot;Germany&quot;</td><td>&quot;Q183&quot;</td></tr><tr><td>&quot;Austria&quot;</td><td>&quot;Q40&quot;</td><td>&quot;Czech Republic&quot;</td><td>&quot;Q213&quot;</td></tr><tr><td>&quot;Austria&quot;</td><td>&quot;Q40&quot;</td><td>&quot;Slovakia&quot;</td><td>&quot;Q214&quot;</td></tr><tr><td>&quot;Austria&quot;</td><td>&quot;Q40&quot;</td><td>&quot;Slovenia&quot;</td><td>&quot;Q215&quot;</td></tr><tr><td>&hellip;</td><td>&hellip;</td><td>&hellip;</td><td>&hellip;</td></tr><tr><td>&quot;South Sudan&quot;</td><td>&quot;Q958&quot;</td><td>&quot;Ethiopia&quot;</td><td>&quot;Q115&quot;</td></tr><tr><td>&quot;South Sudan&quot;</td><td>&quot;Q958&quot;</td><td>&quot;Central African Republic&quot;</td><td>&quot;Q929&quot;</td></tr><tr><td>&quot;South Sudan&quot;</td><td>&quot;Q958&quot;</td><td>&quot;Democratic Republic of the Congo&quot;</td><td>&quot;Q974&quot;</td></tr><tr><td>&quot;South Sudan&quot;</td><td>&quot;Q958&quot;</td><td>&quot;Uganda&quot;</td><td>&quot;Q1036&quot;</td></tr><tr><td>&quot;South Sudan&quot;</td><td>&quot;Q958&quot;</td><td>&quot;Sudan&quot;</td><td>&quot;Q1049&quot;</td></tr><tr><td>&quot;San Marino&quot;</td><td>&quot;Q238&quot;</td><td>&quot;Italy&quot;</td><td>&quot;Q38&quot;</td></tr><tr><td>&quot;Andorra&quot;</td><td>&quot;Q228&quot;</td><td>&quot;Spain&quot;</td><td>&quot;Q29&quot;</td></tr><tr><td>&quot;Andorra&quot;</td><td>&quot;Q228&quot;</td><td>&quot;France&quot;</td><td>&quot;Q142&quot;</td></tr><tr><td>&quot;Turkmenistan&quot;</td><td>&quot;Q874&quot;</td><td>&quot;Kazakhstan&quot;</td><td>&quot;Q232&quot;</td></tr><tr><td>&quot;Turkmenistan&quot;</td><td>&quot;Q874&quot;</td><td>&quot;Uzbekistan&quot;</td><td>&quot;Q265&quot;</td></tr><tr><td>&quot;Turkmenistan&quot;</td><td>&quot;Q874&quot;</td><td>&quot;Iran&quot;</td><td>&quot;Q794&quot;</td></tr><tr><td>&quot;Turkmenistan&quot;</td><td>&quot;Q874&quot;</td><td>&quot;Afghanistan&quot;</td><td>&quot;Q889&quot;</td></tr></tbody></table></div>"
      ],
      "text/plain": [
       "shape: (192, 4)\n",
       "┌──────────────┬──────┬────────────────┬─────────────┐\n",
       "│ label        ┆ id   ┆ borderingLabel ┆ borderingId │\n",
       "│ ---          ┆ ---  ┆ ---            ┆ ---         │\n",
       "│ str          ┆ str  ┆ str            ┆ str         │\n",
       "╞══════════════╪══════╪════════════════╪═════════════╡\n",
       "│ Switzerland  ┆ Q39  ┆ Italy          ┆ Q38         │\n",
       "│ Switzerland  ┆ Q39  ┆ Austria        ┆ Q40         │\n",
       "│ Switzerland  ┆ Q39  ┆ France         ┆ Q142        │\n",
       "│ Switzerland  ┆ Q39  ┆ Germany        ┆ Q183        │\n",
       "│ …            ┆ …    ┆ …              ┆ …           │\n",
       "│ Turkmenistan ┆ Q874 ┆ Kazakhstan     ┆ Q232        │\n",
       "│ Turkmenistan ┆ Q874 ┆ Uzbekistan     ┆ Q265        │\n",
       "│ Turkmenistan ┆ Q874 ┆ Iran           ┆ Q794        │\n",
       "│ Turkmenistan ┆ Q874 ┆ Afghanistan    ┆ Q889        │\n",
       "└──────────────┴──────┴────────────────┴─────────────┘"
      ]
     },
     "execution_count": 18,
     "metadata": {},
     "output_type": "execute_result"
    }
   ],
   "source": [
    "final = country_codes.join(bordering, on=\"id\").select(\n",
    "    [\n",
    "        pl.col(\"label\"),\n",
    "        pl.col(\"id\"),\n",
    "        pl.col(\"borderingLabel\"),\n",
    "        pl.col(\"borderingUri\").apply(id_from_uri).alias(\"borderingId\"),\n",
    "    ]\n",
    ")\n",
    "final"
   ]
  },
  {
   "cell_type": "code",
   "execution_count": 19,
   "id": "0b1da8d1",
   "metadata": {},
   "outputs": [],
   "source": [
    "final.write_csv(\"./data/bordering.csv\")"
   ]
  }
 ],
 "metadata": {
  "kernelspec": {
   "display_name": "Kedro (pure_cube)",
   "language": "python",
   "name": "kedro_pure_cube"
  },
  "language_info": {
   "codemirror_mode": {
    "name": "ipython",
    "version": 3
   },
   "file_extension": ".py",
   "mimetype": "text/x-python",
   "name": "python",
   "nbconvert_exporter": "python",
   "pygments_lexer": "ipython3",
   "version": "3.11.3"
  }
 },
 "nbformat": 4,
 "nbformat_minor": 5
}
