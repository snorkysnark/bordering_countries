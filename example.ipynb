{
 "cells": [
  {
   "cell_type": "code",
   "execution_count": 1,
   "id": "785eca3a",
   "metadata": {},
   "outputs": [],
   "source": [
    "from pathlib import Path\n",
    "from tqdm import tqdm\n",
    "import requests\n",
    "import csv\n",
    "\n",
    "# Better than pandas\n",
    "import polars as pl"
   ]
  },
  {
   "cell_type": "code",
   "execution_count": 16,
   "id": "6f479287",
   "metadata": {},
   "outputs": [
    {
     "data": {
      "text/plain": [
       "polars.config.Config"
      ]
     },
     "execution_count": 16,
     "metadata": {},
     "output_type": "execute_result"
    }
   ],
   "source": [
    "pl.Config.set_tbl_rows(100)\n",
    "pl.Config.set_fmt_str_lengths(100)"
   ]
  },
  {
   "cell_type": "code",
   "execution_count": 2,
   "id": "6a8a93b4",
   "metadata": {
    "scrolled": true
   },
   "outputs": [
    {
     "data": {
      "text/html": [
       "<div><style>\n",
       ".dataframe > thead > tr > th,\n",
       ".dataframe > tbody > tr > td {\n",
       "  text-align: right;\n",
       "}\n",
       "</style>\n",
       "<small>shape: (44, 1)</small><table border=\"1\" class=\"dataframe\"><thead><tr><th>name</th></tr><tr><td>str</td></tr></thead><tbody><tr><td>&quot;Switzerland&quot;</td></tr><tr><td>&quot;Austria&quot;</td></tr><tr><td>&quot;Czech Republic…</td></tr><tr><td>&quot;Hungary&quot;</td></tr><tr><td>&quot;Serbia&quot;</td></tr><tr><td>&quot;Slovakia&quot;</td></tr><tr><td>&quot;Ethiopia&quot;</td></tr><tr><td>&quot;Kazakhstan&quot;</td></tr><tr><td>&quot;Luxembourg&quot;</td></tr><tr><td>&quot;Belarus&quot;</td></tr><tr><td>&quot;Uganda&quot;</td></tr><tr><td>&quot;Nepal&quot;</td></tr><tr><td>&hellip;</td></tr><tr><td>&quot;Tajikistan&quot;</td></tr><tr><td>&quot;Eswatini&quot;</td></tr><tr><td>&quot;Bhutan&quot;</td></tr><tr><td>&quot;Burundi&quot;</td></tr><tr><td>&quot;Lesotho&quot;</td></tr><tr><td>&quot;Chad&quot;</td></tr><tr><td>&quot;Central Africa…</td></tr><tr><td>&quot;Vatican City&quot;</td></tr><tr><td>&quot;South Sudan&quot;</td></tr><tr><td>&quot;San Marino&quot;</td></tr><tr><td>&quot;Andorra&quot;</td></tr><tr><td>&quot;Turkmenistan&quot;</td></tr></tbody></table></div>"
      ],
      "text/plain": [
       "shape: (44, 1)\n",
       "┌────────────────┐\n",
       "│ name           │\n",
       "│ ---            │\n",
       "│ str            │\n",
       "╞════════════════╡\n",
       "│ Switzerland    │\n",
       "│ Austria        │\n",
       "│ Czech Republic │\n",
       "│ Hungary        │\n",
       "│ …              │\n",
       "│ South Sudan    │\n",
       "│ San Marino     │\n",
       "│ Andorra        │\n",
       "│ Turkmenistan   │\n",
       "└────────────────┘"
      ]
     },
     "execution_count": 2,
     "metadata": {},
     "output_type": "execute_result"
    }
   ],
   "source": [
    "countries = (\n",
    "    pl.scan_csv(\"./landlocked 2023-06-26 - Лист1.csv\")\n",
    "    .select(pl.col(\"landlocked country\").alias(\"name\"))\n",
    "    .collect()\n",
    ")\n",
    "countries"
   ]
  },
  {
   "cell_type": "code",
   "execution_count": 3,
   "id": "4de53f04",
   "metadata": {
    "scrolled": true
   },
   "outputs": [],
   "source": [
    "def wbsearchentities(name: str):\n",
    "    response = requests.get(\n",
    "        \"https://www.wikidata.org/w/api.php\",\n",
    "        params={\n",
    "            \"action\": \"wbsearchentities\",\n",
    "            \"search\": name,\n",
    "            \"language\": \"en\",\n",
    "            \"format\": \"json\",\n",
    "        },\n",
    "    )\n",
    "    response.raise_for_status()\n",
    "    return response.json()"
   ]
  },
  {
   "cell_type": "code",
   "execution_count": 4,
   "id": "5b721514",
   "metadata": {
    "scrolled": true
   },
   "outputs": [
    {
     "name": "stderr",
     "output_type": "stream",
     "text": [
      "100%|█████████████████████████████████████████████████████████████████████████████████| 44/44 [00:17<00:00,  2.57it/s]\n"
     ]
    }
   ],
   "source": [
    "search_results_by_name = {}\n",
    "for name in tqdm(countries[\"name\"], total=len(countries)):\n",
    "    search_results_by_name[name] = wbsearchentities(name)"
   ]
  },
  {
   "cell_type": "code",
   "execution_count": 17,
   "id": "0600c4fc",
   "metadata": {
    "scrolled": true
   },
   "outputs": [
    {
     "data": {
      "text/html": [
       "<div><style>\n",
       ".dataframe > thead > tr > th,\n",
       ".dataframe > tbody > tr > td {\n",
       "  text-align: right;\n",
       "}\n",
       "</style>\n",
       "<small>shape: (44, 4)</small><table border=\"1\" class=\"dataframe\"><thead><tr><th>name</th><th>code</th><th>description</th><th>label</th></tr><tr><td>str</td><td>str</td><td>str</td><td>str</td></tr></thead><tbody><tr><td>&quot;Switzerland&quot;</td><td>&quot;Q39&quot;</td><td>&quot;country in Central Europe&quot;</td><td>&quot;Switzerland&quot;</td></tr><tr><td>&quot;Austria&quot;</td><td>&quot;Q40&quot;</td><td>&quot;country in Central Europe&quot;</td><td>&quot;Austria&quot;</td></tr><tr><td>&quot;Czech Republic&quot;</td><td>&quot;Q213&quot;</td><td>&quot;country in Central Europe&quot;</td><td>&quot;Czech Republic&quot;</td></tr><tr><td>&quot;Hungary&quot;</td><td>&quot;Q28&quot;</td><td>&quot;country in Central Europe&quot;</td><td>&quot;Hungary&quot;</td></tr><tr><td>&quot;Serbia&quot;</td><td>&quot;Q403&quot;</td><td>&quot;country in southeastern Europe&quot;</td><td>&quot;Serbia&quot;</td></tr><tr><td>&quot;Slovakia&quot;</td><td>&quot;Q214&quot;</td><td>&quot;country in Central Europe&quot;</td><td>&quot;Slovakia&quot;</td></tr><tr><td>&quot;Ethiopia&quot;</td><td>&quot;Q115&quot;</td><td>&quot;country in the Horn of Africa&quot;</td><td>&quot;Ethiopia&quot;</td></tr><tr><td>&quot;Kazakhstan&quot;</td><td>&quot;Q232&quot;</td><td>&quot;sovereign state in Eastern Europe and Central Asia&quot;</td><td>&quot;Kazakhstan&quot;</td></tr><tr><td>&quot;Luxembourg&quot;</td><td>&quot;Q32&quot;</td><td>&quot;country in Western Europe&quot;</td><td>&quot;Luxembourg&quot;</td></tr><tr><td>&quot;Belarus&quot;</td><td>&quot;Q184&quot;</td><td>&quot;country in Eastern Europe&quot;</td><td>&quot;Belarus&quot;</td></tr><tr><td>&quot;Uganda&quot;</td><td>&quot;Q1036&quot;</td><td>&quot;country in East-central Africa&quot;</td><td>&quot;Uganda&quot;</td></tr><tr><td>&quot;Nepal&quot;</td><td>&quot;Q837&quot;</td><td>&quot;country in South Asia&quot;</td><td>&quot;Nepal&quot;</td></tr><tr><td>&quot;Azerbaijan&quot;</td><td>&quot;Q227&quot;</td><td>&quot;country in the Caucasus in Eastern Europe&quot;</td><td>&quot;Azerbaijan&quot;</td></tr><tr><td>&quot;Armenia&quot;</td><td>&quot;Q399&quot;</td><td>&quot;sovereign state in the South Caucasus region of Eurasia&quot;</td><td>&quot;Armenia&quot;</td></tr><tr><td>&quot;North Macedonia&quot;</td><td>&quot;Q221&quot;</td><td>&quot;country in southeastern Europe&quot;</td><td>&quot;North Macedonia&quot;</td></tr><tr><td>&quot;Uzbekistan&quot;</td><td>&quot;Q265&quot;</td><td>&quot;sovereign state in Central Asia&quot;</td><td>&quot;Uzbekistan&quot;</td></tr><tr><td>&quot;Zimbabwe&quot;</td><td>&quot;Q954&quot;</td><td>&quot;sovereign state in southern Africa&quot;</td><td>&quot;Zimbabwe&quot;</td></tr><tr><td>&quot;Malawi&quot;</td><td>&quot;Q1020&quot;</td><td>&quot;sovereign state in Africa&quot;</td><td>&quot;Malawi&quot;</td></tr><tr><td>&quot;Zambia&quot;</td><td>&quot;Q953&quot;</td><td>&quot;sovereign state in Southern Africa&quot;</td><td>&quot;Zambia&quot;</td></tr><tr><td>&quot;Moldova&quot;</td><td>&quot;Q217&quot;</td><td>&quot;country in Eastern Europe&quot;</td><td>&quot;Moldova&quot;</td></tr><tr><td>&quot;Botswana&quot;</td><td>&quot;Q963&quot;</td><td>&quot;sovereign state in Southern Africa&quot;</td><td>&quot;Botswana&quot;</td></tr><tr><td>&quot;Burkina Faso&quot;</td><td>&quot;Q965&quot;</td><td>&quot;sovereign state in Africa&quot;</td><td>&quot;Burkina Faso&quot;</td></tr><tr><td>&quot;Rwanda&quot;</td><td>&quot;Q1037&quot;</td><td>&quot;sovereign state in Africa&quot;</td><td>&quot;Rwanda&quot;</td></tr><tr><td>&quot;Mongolia&quot;</td><td>&quot;Q711&quot;</td><td>&quot;country in East Asia&quot;</td><td>&quot;Mongolia&quot;</td></tr><tr><td>&quot;Bolivia&quot;</td><td>&quot;Q750&quot;</td><td>&quot;sovereign state in South America&quot;</td><td>&quot;Bolivia&quot;</td></tr><tr><td>&quot;Paraguay&quot;</td><td>&quot;Q733&quot;</td><td>&quot;sovereign state in South America&quot;</td><td>&quot;Paraguay&quot;</td></tr><tr><td>&quot;Mali&quot;</td><td>&quot;Q912&quot;</td><td>&quot;country in West Africa&quot;</td><td>&quot;Mali&quot;</td></tr><tr><td>&quot;Kyrgyzstan&quot;</td><td>&quot;Q813&quot;</td><td>&quot;sovereign state in Central Asia&quot;</td><td>&quot;Kyrgyzstan&quot;</td></tr><tr><td>&quot;Laos&quot;</td><td>&quot;Q819&quot;</td><td>&quot;country in Southeast Asia&quot;</td><td>&quot;Laos&quot;</td></tr><tr><td>&quot;Afghanistan&quot;</td><td>&quot;Q889&quot;</td><td>&quot;country in Central and South Asia&quot;</td><td>&quot;Afghanistan&quot;</td></tr><tr><td>&quot;Niger&quot;</td><td>&quot;Q1032&quot;</td><td>&quot;sovereign state in western Africa&quot;</td><td>&quot;Niger&quot;</td></tr><tr><td>&quot;Liechtenstein&quot;</td><td>&quot;Q347&quot;</td><td>&quot;country in Central Europe&quot;</td><td>&quot;Liechtenstein&quot;</td></tr><tr><td>&quot;Tajikistan&quot;</td><td>&quot;Q863&quot;</td><td>&quot;sovereign state in Central Asia&quot;</td><td>&quot;Tajikistan&quot;</td></tr><tr><td>&quot;Eswatini&quot;</td><td>&quot;Q1050&quot;</td><td>&quot;sovereign state in southern Africa&quot;</td><td>&quot;Eswatini&quot;</td></tr><tr><td>&quot;Bhutan&quot;</td><td>&quot;Q917&quot;</td><td>&quot;sovereign state in South Asia&quot;</td><td>&quot;Bhutan&quot;</td></tr><tr><td>&quot;Burundi&quot;</td><td>&quot;Q967&quot;</td><td>&quot;sovereign state in Africa&quot;</td><td>&quot;Burundi&quot;</td></tr><tr><td>&quot;Lesotho&quot;</td><td>&quot;Q1013&quot;</td><td>&quot;sovereign state in southern Africa&quot;</td><td>&quot;Lesotho&quot;</td></tr><tr><td>&quot;Chad&quot;</td><td>&quot;Q657&quot;</td><td>&quot;sovereign state in central Africa&quot;</td><td>&quot;Chad&quot;</td></tr><tr><td>&quot;Central African Republic&quot;</td><td>&quot;Q929&quot;</td><td>&quot;country in Central Africa&quot;</td><td>&quot;Central African Republic&quot;</td></tr><tr><td>&quot;Vatican City&quot;</td><td>&quot;Q237&quot;</td><td>&quot;Holy See&#x27;s independent city-state, an enclave within Rome, Italy&quot;</td><td>&quot;Vatican City&quot;</td></tr><tr><td>&quot;South Sudan&quot;</td><td>&quot;Q958&quot;</td><td>&quot;country in East Africa&quot;</td><td>&quot;South Sudan&quot;</td></tr><tr><td>&quot;San Marino&quot;</td><td>&quot;Q238&quot;</td><td>&quot;sovereign state in southern Europe, enclaved within Italy&quot;</td><td>&quot;San Marino&quot;</td></tr><tr><td>&quot;Andorra&quot;</td><td>&quot;Q228&quot;</td><td>&quot;sovereign microstate between France and Spain, in Western Europe&quot;</td><td>&quot;Andorra&quot;</td></tr><tr><td>&quot;Turkmenistan&quot;</td><td>&quot;Q874&quot;</td><td>&quot;country in Central Asia&quot;</td><td>&quot;Turkmenistan&quot;</td></tr></tbody></table></div>"
      ],
      "text/plain": [
       "shape: (44, 4)\n",
       "┌──────────────────────────┬───────┬────────────────────────────────────┬──────────────────────────┐\n",
       "│ name                     ┆ code  ┆ description                        ┆ label                    │\n",
       "│ ---                      ┆ ---   ┆ ---                                ┆ ---                      │\n",
       "│ str                      ┆ str   ┆ str                                ┆ str                      │\n",
       "╞══════════════════════════╪═══════╪════════════════════════════════════╪══════════════════════════╡\n",
       "│ Switzerland              ┆ Q39   ┆ country in Central Europe          ┆ Switzerland              │\n",
       "│ Austria                  ┆ Q40   ┆ country in Central Europe          ┆ Austria                  │\n",
       "│ Czech Republic           ┆ Q213  ┆ country in Central Europe          ┆ Czech Republic           │\n",
       "│ Hungary                  ┆ Q28   ┆ country in Central Europe          ┆ Hungary                  │\n",
       "│ Serbia                   ┆ Q403  ┆ country in southeastern Europe     ┆ Serbia                   │\n",
       "│ Slovakia                 ┆ Q214  ┆ country in Central Europe          ┆ Slovakia                 │\n",
       "│ Ethiopia                 ┆ Q115  ┆ country in the Horn of Africa      ┆ Ethiopia                 │\n",
       "│ Kazakhstan               ┆ Q232  ┆ sovereign state in Eastern Europe  ┆ Kazakhstan               │\n",
       "│                          ┆       ┆ and Central Asia                   ┆                          │\n",
       "│ Luxembourg               ┆ Q32   ┆ country in Western Europe          ┆ Luxembourg               │\n",
       "│ Belarus                  ┆ Q184  ┆ country in Eastern Europe          ┆ Belarus                  │\n",
       "│ Uganda                   ┆ Q1036 ┆ country in East-central Africa     ┆ Uganda                   │\n",
       "│ Nepal                    ┆ Q837  ┆ country in South Asia              ┆ Nepal                    │\n",
       "│ Azerbaijan               ┆ Q227  ┆ country in the Caucasus in Eastern ┆ Azerbaijan               │\n",
       "│                          ┆       ┆ Europe                             ┆                          │\n",
       "│ Armenia                  ┆ Q399  ┆ sovereign state in the South       ┆ Armenia                  │\n",
       "│                          ┆       ┆ Caucasus region of Eurasia         ┆                          │\n",
       "│ North Macedonia          ┆ Q221  ┆ country in southeastern Europe     ┆ North Macedonia          │\n",
       "│ Uzbekistan               ┆ Q265  ┆ sovereign state in Central Asia    ┆ Uzbekistan               │\n",
       "│ Zimbabwe                 ┆ Q954  ┆ sovereign state in southern Africa ┆ Zimbabwe                 │\n",
       "│ Malawi                   ┆ Q1020 ┆ sovereign state in Africa          ┆ Malawi                   │\n",
       "│ Zambia                   ┆ Q953  ┆ sovereign state in Southern Africa ┆ Zambia                   │\n",
       "│ Moldova                  ┆ Q217  ┆ country in Eastern Europe          ┆ Moldova                  │\n",
       "│ Botswana                 ┆ Q963  ┆ sovereign state in Southern Africa ┆ Botswana                 │\n",
       "│ Burkina Faso             ┆ Q965  ┆ sovereign state in Africa          ┆ Burkina Faso             │\n",
       "│ Rwanda                   ┆ Q1037 ┆ sovereign state in Africa          ┆ Rwanda                   │\n",
       "│ Mongolia                 ┆ Q711  ┆ country in East Asia               ┆ Mongolia                 │\n",
       "│ Bolivia                  ┆ Q750  ┆ sovereign state in South America   ┆ Bolivia                  │\n",
       "│ Paraguay                 ┆ Q733  ┆ sovereign state in South America   ┆ Paraguay                 │\n",
       "│ Mali                     ┆ Q912  ┆ country in West Africa             ┆ Mali                     │\n",
       "│ Kyrgyzstan               ┆ Q813  ┆ sovereign state in Central Asia    ┆ Kyrgyzstan               │\n",
       "│ Laos                     ┆ Q819  ┆ country in Southeast Asia          ┆ Laos                     │\n",
       "│ Afghanistan              ┆ Q889  ┆ country in Central and South Asia  ┆ Afghanistan              │\n",
       "│ Niger                    ┆ Q1032 ┆ sovereign state in western Africa  ┆ Niger                    │\n",
       "│ Liechtenstein            ┆ Q347  ┆ country in Central Europe          ┆ Liechtenstein            │\n",
       "│ Tajikistan               ┆ Q863  ┆ sovereign state in Central Asia    ┆ Tajikistan               │\n",
       "│ Eswatini                 ┆ Q1050 ┆ sovereign state in southern Africa ┆ Eswatini                 │\n",
       "│ Bhutan                   ┆ Q917  ┆ sovereign state in South Asia      ┆ Bhutan                   │\n",
       "│ Burundi                  ┆ Q967  ┆ sovereign state in Africa          ┆ Burundi                  │\n",
       "│ Lesotho                  ┆ Q1013 ┆ sovereign state in southern Africa ┆ Lesotho                  │\n",
       "│ Chad                     ┆ Q657  ┆ sovereign state in central Africa  ┆ Chad                     │\n",
       "│ Central African Republic ┆ Q929  ┆ country in Central Africa          ┆ Central African Republic │\n",
       "│ Vatican City             ┆ Q237  ┆ Holy See's independent city-state, ┆ Vatican City             │\n",
       "│                          ┆       ┆ an enclave within Rome, Italy      ┆                          │\n",
       "│ South Sudan              ┆ Q958  ┆ country in East Africa             ┆ South Sudan              │\n",
       "│ San Marino               ┆ Q238  ┆ sovereign state in southern        ┆ San Marino               │\n",
       "│                          ┆       ┆ Europe, enclaved within Italy      ┆                          │\n",
       "│ Andorra                  ┆ Q228  ┆ sovereign microstate between       ┆ Andorra                  │\n",
       "│                          ┆       ┆ France and Spain, in Western       ┆                          │\n",
       "│                          ┆       ┆ Europe                             ┆                          │\n",
       "│ Turkmenistan             ┆ Q874  ┆ country in Central Asia            ┆ Turkmenistan             │\n",
       "└──────────────────────────┴───────┴────────────────────────────────────┴──────────────────────────┘"
      ]
     },
     "execution_count": 17,
     "metadata": {},
     "output_type": "execute_result"
    }
   ],
   "source": [
    "def min_description(search_result: dict):\n",
    "    return {\n",
    "        \"code\": search_result[\"id\"],\n",
    "        \"label\": search_result[\"label\"],\n",
    "        \"description\": search_result[\"description\"],\n",
    "    }\n",
    "\n",
    "\n",
    "countries.with_columns(\n",
    "    pl.col(\"name\")\n",
    "    .apply(lambda name: min_description(search_results_by_name[name][\"search\"][0]))\n",
    "    .alias(\"found\")\n",
    ").unnest(\"found\")"
   ]
  }
 ],
 "metadata": {
  "kernelspec": {
   "display_name": "Kedro (pure_cube)",
   "language": "python",
   "name": "kedro_pure_cube"
  },
  "language_info": {
   "codemirror_mode": {
    "name": "ipython",
    "version": 3
   },
   "file_extension": ".py",
   "mimetype": "text/x-python",
   "name": "python",
   "nbconvert_exporter": "python",
   "pygments_lexer": "ipython3",
   "version": "3.11.3"
  }
 },
 "nbformat": 4,
 "nbformat_minor": 5
}
