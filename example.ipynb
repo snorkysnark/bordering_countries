{
 "cells": [
  {
   "cell_type": "code",
   "execution_count": 1,
   "id": "785eca3a",
   "metadata": {},
   "outputs": [],
   "source": [
    "from pathlib import Path\n",
    "from tqdm import tqdm\n",
    "import requests\n",
    "import csv\n",
    "\n",
    "# Better than pandas! Has actual types\n",
    "import polars as pl"
   ]
  },
  {
   "cell_type": "code",
   "execution_count": 2,
   "id": "6a8a93b4",
   "metadata": {
    "scrolled": true
   },
   "outputs": [
    {
     "data": {
      "text/plain": [
       "['Switzerland',\n",
       " 'Austria',\n",
       " 'Czech Republic',\n",
       " 'Hungary',\n",
       " 'Serbia',\n",
       " 'Slovakia',\n",
       " 'Ethiopia',\n",
       " 'Kazakhstan',\n",
       " 'Luxembourg',\n",
       " 'Belarus',\n",
       " 'Uganda',\n",
       " 'Nepal',\n",
       " 'Azerbaijan',\n",
       " 'Armenia',\n",
       " 'North Macedonia',\n",
       " 'Uzbekistan',\n",
       " 'Zimbabwe',\n",
       " 'Malawi',\n",
       " 'Zambia',\n",
       " 'Moldova',\n",
       " 'Botswana',\n",
       " 'Burkina Faso',\n",
       " 'Rwanda',\n",
       " 'Mongolia',\n",
       " 'Bolivia',\n",
       " 'Paraguay',\n",
       " 'Mali',\n",
       " 'Kyrgyzstan',\n",
       " 'Laos',\n",
       " 'Afghanistan',\n",
       " 'Niger',\n",
       " 'Liechtenstein',\n",
       " 'Tajikistan',\n",
       " 'Eswatini',\n",
       " 'Bhutan',\n",
       " 'Burundi',\n",
       " 'Lesotho',\n",
       " 'Chad',\n",
       " 'Central African Republic',\n",
       " 'Vatican City',\n",
       " 'South Sudan',\n",
       " 'San Marino',\n",
       " 'Andorra',\n",
       " 'Turkmenistan']"
      ]
     },
     "execution_count": 2,
     "metadata": {},
     "output_type": "execute_result"
    }
   ],
   "source": [
    "with Path(\"./landlocked 2023-06-26 - Лист1.csv\").open() as file:\n",
    "    reader = csv.DictReader(file)\n",
    "    countries = list(map(lambda row: row[\"landlocked country\"], reader))\n",
    "countries"
   ]
  },
  {
   "cell_type": "code",
   "execution_count": 5,
   "id": "4de53f04",
   "metadata": {
    "scrolled": true
   },
   "outputs": [],
   "source": [
    "def wbsearchentities(name: str):\n",
    "    response = requests.get(\n",
    "        \"https://www.wikidata.org/w/api.php\",\n",
    "        params={\n",
    "            \"action\": \"wbsearchentities\",\n",
    "            \"search\": name,\n",
    "            \"language\": \"en\",\n",
    "            \"format\": \"json\",\n",
    "        },\n",
    "    )\n",
    "    response.raise_for_status()\n",
    "    return response.json()"
   ]
  },
  {
   "cell_type": "code",
   "execution_count": null,
   "id": "83438a1b",
   "metadata": {},
   "outputs": [],
   "source": []
  }
 ],
 "metadata": {
  "kernelspec": {
   "display_name": "Kedro (pure_cube)",
   "language": "python",
   "name": "kedro_pure_cube"
  },
  "language_info": {
   "codemirror_mode": {
    "name": "ipython",
    "version": 3
   },
   "file_extension": ".py",
   "mimetype": "text/x-python",
   "name": "python",
   "nbconvert_exporter": "python",
   "pygments_lexer": "ipython3",
   "version": "3.11.3"
  }
 },
 "nbformat": 4,
 "nbformat_minor": 5
}
